{
 "cells": [
  {
   "cell_type": "markdown",
   "id": "4f184497-682c-417e-9c96-f7d127d84898",
   "metadata": {},
   "source": [
    "# Split data"
   ]
  },
  {
   "cell_type": "code",
   "execution_count": 40,
   "id": "479dd2e5-a676-421b-b08f-d3bca8452502",
   "metadata": {},
   "outputs": [],
   "source": [
    "import json\n",
    "import pandas as pd\n",
    "from sklearn.model_selection import train_test_split\n",
    "from sklearn.decomposition import PCA\n",
    "from sklearn.cluster import KMeans\n",
    "from scipy.spatial.distance import cdist\n",
    "from tqdm import tqdm\n",
    "from rdkit.Chem import rdFingerprintGenerator\n",
    "import numpy as np\n",
    "import matplotlib.pyplot as plt\n",
    "import matplotlib\n",
    "matplotlib.rcParams['mathtext.fontset'] = 'stix'\n",
    "matplotlib.rcParams['font.family'] = 'STIXGeneral'\n",
    "\n",
    "from rdmc.mol import RDKitMol\n",
    "\n",
    "def make_rdkit_mol(smi):\n",
    "    return RDKitMol.FromSmiles(smi)._mol"
   ]
  },
  {
   "cell_type": "code",
   "execution_count": 41,
   "id": "a764e371-921b-4fee-b18b-adf9534a385b",
   "metadata": {},
   "outputs": [],
   "source": [
    "hbi_unc_df = pd.read_csv(\"../data/hbi_unc.csv\")"
   ]
  },
  {
   "cell_type": "markdown",
   "id": "b0c77238-39aa-4cfe-9d24-d4165d2dfa6a",
   "metadata": {},
   "source": [
    "# Random split"
   ]
  },
  {
   "cell_type": "code",
   "execution_count": 3,
   "id": "cfcdd606-a56f-4f8a-be64-867f44d93bbe",
   "metadata": {},
   "outputs": [],
   "source": [
    "unique_radicals = hbi_unc_df[\"radical_smiles\"].unique()"
   ]
  },
  {
   "cell_type": "code",
   "execution_count": 4,
   "id": "7f395d41-20a3-4162-a2a4-00664512647c",
   "metadata": {},
   "outputs": [],
   "source": [
    "train, test = train_test_split(unique_radicals, test_size=0.1, random_state=0)"
   ]
  },
  {
   "cell_type": "code",
   "execution_count": 5,
   "id": "a7ff2160-16d8-4ac9-826a-f3887e12158c",
   "metadata": {},
   "outputs": [],
   "source": [
    "train_df = hbi_unc_df[hbi_unc_df[\"radical_smiles\"].isin(train)]\n",
    "train_inds = list(train_df.index)"
   ]
  },
  {
   "cell_type": "code",
   "execution_count": 6,
   "id": "09b9a98c-a774-4f40-8d22-fd7c794bdfcc",
   "metadata": {},
   "outputs": [],
   "source": [
    "test_df = hbi_unc_df[hbi_unc_df[\"radical_smiles\"].isin(test)]\n",
    "test_inds = list(test_df.index)"
   ]
  },
  {
   "cell_type": "code",
   "execution_count": 7,
   "id": "a88206c1-d77c-481e-8354-2a3bc65e31b0",
   "metadata": {},
   "outputs": [],
   "source": [
    "with open(\"../data/splits/random.json\", \"w\") as f:\n",
    "    json.dump((train_inds, test_inds), f)"
   ]
  },
  {
   "cell_type": "markdown",
   "id": "573663ec-1f6d-47f3-b2c4-220cf5eb9846",
   "metadata": {},
   "source": [
    "# Random split with validation"
   ]
  },
  {
   "cell_type": "code",
   "execution_count": 3,
   "id": "c6d3e000-a374-462a-9364-994161c49ea1",
   "metadata": {},
   "outputs": [],
   "source": [
    "unique_radicals = hbi_unc_df[\"radical_smiles\"].unique()\n",
    "train, test = train_test_split(unique_radicals, test_size=0.1, random_state=0)\n",
    "train, val = train_test_split(train, test_size=0.1 / 0.9, random_state=0)"
   ]
  },
  {
   "cell_type": "code",
   "execution_count": 8,
   "id": "195fb131-07e5-4abd-93b4-a5b77fd2d691",
   "metadata": {},
   "outputs": [
    {
     "data": {
      "text/plain": [
       "2257"
      ]
     },
     "execution_count": 8,
     "metadata": {},
     "output_type": "execute_result"
    }
   ],
   "source": [
    "train_df = hbi_unc_df[hbi_unc_df[\"radical_smiles\"].isin(train)]\n",
    "train_inds = list(train_df.index)\n",
    "len(train_inds)"
   ]
  },
  {
   "cell_type": "code",
   "execution_count": 9,
   "id": "59b2997d-8ec2-4ce6-8d93-964c3e893e1f",
   "metadata": {},
   "outputs": [
    {
     "data": {
      "text/plain": [
       "275"
      ]
     },
     "execution_count": 9,
     "metadata": {},
     "output_type": "execute_result"
    }
   ],
   "source": [
    "val_df = hbi_unc_df[hbi_unc_df[\"radical_smiles\"].isin(val)]\n",
    "val_inds = list(val_df.index)\n",
    "len(val_inds)"
   ]
  },
  {
   "cell_type": "code",
   "execution_count": 10,
   "id": "65aaf3b4-40e9-4dfd-8246-6c2292d90bed",
   "metadata": {},
   "outputs": [
    {
     "data": {
      "text/plain": [
       "277"
      ]
     },
     "execution_count": 10,
     "metadata": {},
     "output_type": "execute_result"
    }
   ],
   "source": [
    "test_df = hbi_unc_df[hbi_unc_df[\"radical_smiles\"].isin(test)]\n",
    "test_inds = list(test_df.index)\n",
    "len(test_inds)"
   ]
  },
  {
   "cell_type": "code",
   "execution_count": 11,
   "id": "b1383015-21e7-4715-a549-5e77cdfd60df",
   "metadata": {},
   "outputs": [],
   "source": [
    "with open(\"../data/splits/random_val.json\", \"w\") as f:\n",
    "    json.dump((train_inds, val_inds, test_inds), f)"
   ]
  },
  {
   "cell_type": "markdown",
   "id": "b49fd190-6faa-412a-b117-60c5407b146a",
   "metadata": {},
   "source": [
    "# Cluster split"
   ]
  },
  {
   "cell_type": "code",
   "execution_count": 53,
   "id": "795acb9c-49d3-4441-ae5b-884082f79a81",
   "metadata": {},
   "outputs": [],
   "source": [
    "test_size = 0.1"
   ]
  },
  {
   "cell_type": "code",
   "execution_count": 42,
   "id": "b71a9f10-3cf6-4228-b06b-2bad54d3d495",
   "metadata": {},
   "outputs": [],
   "source": [
    "cluster_df = pd.read_csv(\"../data/resonance_radical_cluster.csv\")"
   ]
  },
  {
   "cell_type": "code",
   "execution_count": 46,
   "id": "95bf8e4e-d21e-4e40-bb7d-29f352e6c6a9",
   "metadata": {},
   "outputs": [
    {
     "data": {
      "text/plain": [
       "{2: 418,\n",
       " 3: 362,\n",
       " 10: 305,\n",
       " 9: 278,\n",
       " 8: 238,\n",
       " 5: 212,\n",
       " 0: 203,\n",
       " 4: 172,\n",
       " 12: 168,\n",
       " 7: 114,\n",
       " 1: 112,\n",
       " 6: 95,\n",
       " 11: 65,\n",
       " 13: 39,\n",
       " 14: 28}"
      ]
     },
     "execution_count": 46,
     "metadata": {},
     "output_type": "execute_result"
    }
   ],
   "source": [
    "cluster_count_dict = cluster_df[\"cluster\"].value_counts().to_dict()\n",
    "cluster_count_dict"
   ]
  },
  {
   "cell_type": "code",
   "execution_count": 64,
   "id": "e7f2aad0-6977-46a7-aa3e-e9404cfdef1d",
   "metadata": {},
   "outputs": [
    {
     "data": {
      "text/plain": [
       "352     C[C](C)C(C)(C)OOC(C)(C)C(C)=O\n",
       "456            C[C](C)C(C)(C)OOC(C)=O\n",
       "555      C[C](C)C(C)(C)OOC(C)(C)C(C)C\n",
       "592           C[C](C)C(C)(C)OOCC(C)=O\n",
       "630             COOC(C)(C)C(C)(C)O[O]\n",
       "                    ...              \n",
       "2706                  [CH2]C=CC1C=CC1\n",
       "2707                   C=C[CH]C1C=CC1\n",
       "2726           C1=CC2[C](C1)C1C=CC2C1\n",
       "2766                   [CH]=C1C=CC=C1\n",
       "2785                   C1=CC[CH]CCC=1\n",
       "Name: resonance_radical_smiles, Length: 339, dtype: object"
      ]
     },
     "execution_count": 64,
     "metadata": {},
     "output_type": "execute_result"
    }
   ],
   "source": [
    "sorted_clusters = np.array(list(cluster_count_dict.keys())[::-1])\n",
    "sorted_cluster_counts = np.array(list(cluster_count_dict.values())[::-1])\n",
    "cluster_cumsums = np.cumsum(sorted_cluster_counts)\n",
    "cluster_cumsums = cluster_cumsums / cluster_cumsums[-1]\n",
    "ind = np.argmax(cluster_cumsums >= test_size)\n",
    "test_clusters = sorted_clusters[:ind+1]\n",
    "test_smis = cluster_df.loc[cluster_df[\"cluster\"].isin(test_clusters), \"resonance_radical_smiles\"]\n",
    "test_smis"
   ]
  },
  {
   "cell_type": "code",
   "execution_count": 68,
   "id": "55a80922-2e3d-4646-983e-b8a3f291ce2d",
   "metadata": {},
   "outputs": [],
   "source": [
    "test_df = hbi_unc_df[hbi_unc_df[\"resonance_radical_smiles\"].isin(test_smis)]\n",
    "train_df = hbi_unc_df[~hbi_unc_df.index.isin(test_df.index)]"
   ]
  },
  {
   "cell_type": "code",
   "execution_count": 74,
   "id": "6b371825-26ae-4254-ae4a-15e37b7ae321",
   "metadata": {},
   "outputs": [
    {
     "name": "stdout",
     "output_type": "stream",
     "text": [
      "0.879316482734069\n",
      "0.12068351726593093\n"
     ]
    }
   ],
   "source": [
    "train_inds = list(train_df.index)\n",
    "print(len(train_inds)/len(hbi_unc_df.index))\n",
    "test_inds = list(test_df.index)\n",
    "print(len(test_inds)/len(hbi_unc_df.index))"
   ]
  },
  {
   "cell_type": "code",
   "execution_count": 70,
   "id": "7b4b6284-3c83-4c86-864c-359dea603fa8",
   "metadata": {},
   "outputs": [],
   "source": [
    "with open(\"../data/splits/cluster.json\", \"w\") as f:\n",
    "    json.dump((train_inds, test_inds), f)"
   ]
  },
  {
   "cell_type": "code",
   "execution_count": null,
   "id": "512208a5-5971-483c-998e-1494098a5eae",
   "metadata": {},
   "outputs": [],
   "source": []
  }
 ],
 "metadata": {
  "kernelspec": {
   "display_name": "Python [conda env:mambaforge-rmg_rdmc_env_20230623_v2]",
   "language": "python",
   "name": "conda-env-mambaforge-rmg_rdmc_env_20230623_v2-py"
  },
  "language_info": {
   "codemirror_mode": {
    "name": "ipython",
    "version": 3
   },
   "file_extension": ".py",
   "mimetype": "text/x-python",
   "name": "python",
   "nbconvert_exporter": "python",
   "pygments_lexer": "ipython3",
   "version": "3.7.16"
  }
 },
 "nbformat": 4,
 "nbformat_minor": 5
}
