{
 "cells": [
  {
   "cell_type": "code",
   "execution_count": 17,
   "id": "9401f259-de13-49ba-9a0e-f2d8d3535d94",
   "metadata": {},
   "outputs": [],
   "source": [
    "import sys\n",
    "sys.path.insert(0,\"/home/gridsan/hwpang/Software/RMG-Py/\")\n",
    "\n",
    "import random\n",
    "import time as time\n",
    "import pandas as pd\n",
    "import numpy as np\n",
    "\n",
    "from rmgpy.molecule.group import Group\n",
    "from rmgpy.data.base import Entry\n",
    "from rmgpy.data.thermo import ThermoData\n",
    "\n",
    "from thermo import ThermoGroups\n",
    "from utils import make_mol\n",
    "from parameters import Ts"
   ]
  },
  {
   "cell_type": "markdown",
   "id": "01bd1295-4c26-4d07-95ce-4585c3f41312",
   "metadata": {},
   "source": [
    "# Load HBI corrections"
   ]
  },
  {
   "cell_type": "code",
   "execution_count": 2,
   "id": "8d747971-c16b-4812-9746-bd05f35e62c9",
   "metadata": {},
   "outputs": [
    {
     "data": {
      "text/html": [
       "<div>\n",
       "<style scoped>\n",
       "    .dataframe tbody tr th:only-of-type {\n",
       "        vertical-align: middle;\n",
       "    }\n",
       "\n",
       "    .dataframe tbody tr th {\n",
       "        vertical-align: top;\n",
       "    }\n",
       "\n",
       "    .dataframe thead th {\n",
       "        text-align: right;\n",
       "    }\n",
       "</style>\n",
       "<table border=\"1\" class=\"dataframe\">\n",
       "  <thead>\n",
       "    <tr style=\"text-align: right;\">\n",
       "      <th></th>\n",
       "      <th>radical_smiles</th>\n",
       "      <th>radical_resonance_smiles</th>\n",
       "      <th>closed_shell_smiles</th>\n",
       "      <th>closed_shell_H298 (kcal/mol)</th>\n",
       "      <th>closed_shell_S298 (cal/mol/K)</th>\n",
       "      <th>closed_shell_Cp300 (cal/mol/K)</th>\n",
       "      <th>closed_shell_Cp400 (cal/mol/K)</th>\n",
       "      <th>closed_shell_Cp500 (cal/mol/K)</th>\n",
       "      <th>closed_shell_Cp600 (cal/mol/K)</th>\n",
       "      <th>closed_shell_Cp800 (cal/mol/K)</th>\n",
       "      <th>...</th>\n",
       "      <th>radical_num_resonance</th>\n",
       "      <th>HBI_H298 (kcal/mol)</th>\n",
       "      <th>HBI_Sint298 (cal/mol/K)</th>\n",
       "      <th>HBI_Cp300 (cal/mol/K)</th>\n",
       "      <th>HBI_Cp400 (cal/mol/K)</th>\n",
       "      <th>HBI_Cp500 (cal/mol/K)</th>\n",
       "      <th>HBI_Cp600 (cal/mol/K)</th>\n",
       "      <th>HBI_Cp800 (cal/mol/K)</th>\n",
       "      <th>HBI_Cp1000 (cal/mol/K)</th>\n",
       "      <th>HBI_Cp1500 (cal/mol/K)</th>\n",
       "    </tr>\n",
       "  </thead>\n",
       "  <tbody>\n",
       "    <tr>\n",
       "      <th>0</th>\n",
       "      <td>[O]C(=O)OC(O)(O)O</td>\n",
       "      <td>[O]C(=O)OC(O)(O)O</td>\n",
       "      <td>O=C(O)OC(O)(O)O</td>\n",
       "      <td>-272.617591</td>\n",
       "      <td>98.406448</td>\n",
       "      <td>31.562314</td>\n",
       "      <td>36.827897</td>\n",
       "      <td>41.095602</td>\n",
       "      <td>44.234417</td>\n",
       "      <td>48.821415</td>\n",
       "      <td>...</td>\n",
       "      <td>1</td>\n",
       "      <td>49.103465</td>\n",
       "      <td>-4.589644</td>\n",
       "      <td>2.364565</td>\n",
       "      <td>1.559776</td>\n",
       "      <td>0.412894</td>\n",
       "      <td>-0.172027</td>\n",
       "      <td>-1.041685</td>\n",
       "      <td>-1.683176</td>\n",
       "      <td>-3.705453</td>\n",
       "    </tr>\n",
       "    <tr>\n",
       "      <th>1</th>\n",
       "      <td>[O]C(O)(O)OC(=O)O</td>\n",
       "      <td>[O]C(O)(O)OC(=O)O</td>\n",
       "      <td>O=C(O)OC(O)(O)O</td>\n",
       "      <td>-272.617591</td>\n",
       "      <td>98.406448</td>\n",
       "      <td>31.562314</td>\n",
       "      <td>36.827897</td>\n",
       "      <td>41.095602</td>\n",
       "      <td>44.234417</td>\n",
       "      <td>48.821415</td>\n",
       "      <td>...</td>\n",
       "      <td>1</td>\n",
       "      <td>49.194200</td>\n",
       "      <td>-7.808181</td>\n",
       "      <td>0.968866</td>\n",
       "      <td>0.741762</td>\n",
       "      <td>0.402841</td>\n",
       "      <td>0.476043</td>\n",
       "      <td>0.534574</td>\n",
       "      <td>0.412253</td>\n",
       "      <td>-1.394250</td>\n",
       "    </tr>\n",
       "    <tr>\n",
       "      <th>2</th>\n",
       "      <td>O=C(O)O[C](O)O</td>\n",
       "      <td>O=C(O)O[C](O)O</td>\n",
       "      <td>O=C(O)OC(O)O</td>\n",
       "      <td>-231.363843</td>\n",
       "      <td>94.127419</td>\n",
       "      <td>27.214474</td>\n",
       "      <td>31.965583</td>\n",
       "      <td>36.032333</td>\n",
       "      <td>39.309560</td>\n",
       "      <td>44.059044</td>\n",
       "      <td>...</td>\n",
       "      <td>1</td>\n",
       "      <td>44.040974</td>\n",
       "      <td>-4.610350</td>\n",
       "      <td>1.758768</td>\n",
       "      <td>2.587490</td>\n",
       "      <td>2.714389</td>\n",
       "      <td>2.346110</td>\n",
       "      <td>1.178471</td>\n",
       "      <td>0.282207</td>\n",
       "      <td>-0.997631</td>\n",
       "    </tr>\n",
       "    <tr>\n",
       "      <th>3</th>\n",
       "      <td>CC(=O)OC(OO)C(=O)C(O)O[O]</td>\n",
       "      <td>CC(=O)OC(OO)C(=O)C(O)O[O]</td>\n",
       "      <td>CC(=O)OC(OO)C(=O)C(O)OO</td>\n",
       "      <td>-234.219312</td>\n",
       "      <td>145.598548</td>\n",
       "      <td>52.706616</td>\n",
       "      <td>62.438776</td>\n",
       "      <td>71.442505</td>\n",
       "      <td>78.070363</td>\n",
       "      <td>87.443365</td>\n",
       "      <td>...</td>\n",
       "      <td>1</td>\n",
       "      <td>48.558735</td>\n",
       "      <td>-12.393484</td>\n",
       "      <td>3.863088</td>\n",
       "      <td>3.589450</td>\n",
       "      <td>2.161239</td>\n",
       "      <td>1.702481</td>\n",
       "      <td>1.262146</td>\n",
       "      <td>-0.928170</td>\n",
       "      <td>-3.176204</td>\n",
       "    </tr>\n",
       "    <tr>\n",
       "      <th>4</th>\n",
       "      <td>O=[C]OC(O)(O)O</td>\n",
       "      <td>O=[C]OC(O)(O)O</td>\n",
       "      <td>O=COC(O)(O)O</td>\n",
       "      <td>-216.499044</td>\n",
       "      <td>92.684651</td>\n",
       "      <td>26.935163</td>\n",
       "      <td>30.962696</td>\n",
       "      <td>34.637667</td>\n",
       "      <td>37.592447</td>\n",
       "      <td>42.375430</td>\n",
       "      <td>...</td>\n",
       "      <td>1</td>\n",
       "      <td>36.001481</td>\n",
       "      <td>-4.835845</td>\n",
       "      <td>5.443029</td>\n",
       "      <td>5.881647</td>\n",
       "      <td>4.696512</td>\n",
       "      <td>3.708683</td>\n",
       "      <td>1.768296</td>\n",
       "      <td>0.144000</td>\n",
       "      <td>-3.234417</td>\n",
       "    </tr>\n",
       "    <tr>\n",
       "      <th>...</th>\n",
       "      <td>...</td>\n",
       "      <td>...</td>\n",
       "      <td>...</td>\n",
       "      <td>...</td>\n",
       "      <td>...</td>\n",
       "      <td>...</td>\n",
       "      <td>...</td>\n",
       "      <td>...</td>\n",
       "      <td>...</td>\n",
       "      <td>...</td>\n",
       "      <td>...</td>\n",
       "      <td>...</td>\n",
       "      <td>...</td>\n",
       "      <td>...</td>\n",
       "      <td>...</td>\n",
       "      <td>...</td>\n",
       "      <td>...</td>\n",
       "      <td>...</td>\n",
       "      <td>...</td>\n",
       "      <td>...</td>\n",
       "      <td>...</td>\n",
       "    </tr>\n",
       "    <tr>\n",
       "      <th>2862</th>\n",
       "      <td>C1=C[CH]C=1</td>\n",
       "      <td>[C]1=CC=C1</td>\n",
       "      <td>C1=CC=C1</td>\n",
       "      <td>104.333500</td>\n",
       "      <td>57.818020</td>\n",
       "      <td>15.504000</td>\n",
       "      <td>19.920000</td>\n",
       "      <td>23.474000</td>\n",
       "      <td>26.261000</td>\n",
       "      <td>30.329000</td>\n",
       "      <td>...</td>\n",
       "      <td>2</td>\n",
       "      <td>51.773082</td>\n",
       "      <td>3.435468</td>\n",
       "      <td>-0.850889</td>\n",
       "      <td>-1.431243</td>\n",
       "      <td>-1.911856</td>\n",
       "      <td>-2.405821</td>\n",
       "      <td>-3.006968</td>\n",
       "      <td>-3.449835</td>\n",
       "      <td>-4.556360</td>\n",
       "    </tr>\n",
       "    <tr>\n",
       "      <th>2863</th>\n",
       "      <td>C=C=C1C=[C]C1</td>\n",
       "      <td>C=C=C1C=[C]C1</td>\n",
       "      <td>C=C=C1C=CC1</td>\n",
       "      <td>91.366874</td>\n",
       "      <td>50.394958</td>\n",
       "      <td>22.416919</td>\n",
       "      <td>29.489266</td>\n",
       "      <td>35.000461</td>\n",
       "      <td>39.185145</td>\n",
       "      <td>45.162263</td>\n",
       "      <td>...</td>\n",
       "      <td>1</td>\n",
       "      <td>66.366211</td>\n",
       "      <td>25.815240</td>\n",
       "      <td>0.258337</td>\n",
       "      <td>-1.155381</td>\n",
       "      <td>-2.024215</td>\n",
       "      <td>-2.373362</td>\n",
       "      <td>-2.314548</td>\n",
       "      <td>-2.090808</td>\n",
       "      <td>-2.168527</td>\n",
       "    </tr>\n",
       "    <tr>\n",
       "      <th>2864</th>\n",
       "      <td>[CH2]C1=CC#CC1</td>\n",
       "      <td>[CH2]C1=CC#CC1</td>\n",
       "      <td>CC1=CC#CC1</td>\n",
       "      <td>131.227000</td>\n",
       "      <td>72.956831</td>\n",
       "      <td>23.409000</td>\n",
       "      <td>30.017000</td>\n",
       "      <td>34.619000</td>\n",
       "      <td>39.828000</td>\n",
       "      <td>46.529000</td>\n",
       "      <td>...</td>\n",
       "      <td>3</td>\n",
       "      <td>32.271344</td>\n",
       "      <td>0.823844</td>\n",
       "      <td>-0.802362</td>\n",
       "      <td>-1.521882</td>\n",
       "      <td>-1.227900</td>\n",
       "      <td>-2.500041</td>\n",
       "      <td>-3.127836</td>\n",
       "      <td>-3.711522</td>\n",
       "      <td>-2.960733</td>\n",
       "    </tr>\n",
       "    <tr>\n",
       "      <th>2865</th>\n",
       "      <td>[CH2]C1=CC#CC1</td>\n",
       "      <td>C=C1[CH]C#CC1</td>\n",
       "      <td>C=C1CC#CC1</td>\n",
       "      <td>136.767000</td>\n",
       "      <td>72.435147</td>\n",
       "      <td>22.819000</td>\n",
       "      <td>29.017000</td>\n",
       "      <td>34.189000</td>\n",
       "      <td>38.448000</td>\n",
       "      <td>45.419000</td>\n",
       "      <td>...</td>\n",
       "      <td>3</td>\n",
       "      <td>26.731344</td>\n",
       "      <td>0.773844</td>\n",
       "      <td>-0.212362</td>\n",
       "      <td>-0.521882</td>\n",
       "      <td>-0.797900</td>\n",
       "      <td>-1.120041</td>\n",
       "      <td>-2.017836</td>\n",
       "      <td>-2.931522</td>\n",
       "      <td>-2.570733</td>\n",
       "    </tr>\n",
       "    <tr>\n",
       "      <th>2866</th>\n",
       "      <td>[CH2]C1=CC#CC1</td>\n",
       "      <td>C=C1C=C=[C]C1</td>\n",
       "      <td>C=C1C=C=CC1</td>\n",
       "      <td>126.273400</td>\n",
       "      <td>68.934873</td>\n",
       "      <td>23.109770</td>\n",
       "      <td>30.529630</td>\n",
       "      <td>36.181680</td>\n",
       "      <td>40.339270</td>\n",
       "      <td>46.666770</td>\n",
       "      <td>...</td>\n",
       "      <td>3</td>\n",
       "      <td>37.224944</td>\n",
       "      <td>5.651544</td>\n",
       "      <td>-0.503132</td>\n",
       "      <td>-2.034512</td>\n",
       "      <td>-2.790580</td>\n",
       "      <td>-3.011311</td>\n",
       "      <td>-3.265606</td>\n",
       "      <td>-4.115742</td>\n",
       "      <td>-4.911713</td>\n",
       "    </tr>\n",
       "  </tbody>\n",
       "</table>\n",
       "<p>2867 rows × 37 columns</p>\n",
       "</div>"
      ],
      "text/plain": [
       "                 radical_smiles   radical_resonance_smiles  \\\n",
       "0             [O]C(=O)OC(O)(O)O          [O]C(=O)OC(O)(O)O   \n",
       "1             [O]C(O)(O)OC(=O)O          [O]C(O)(O)OC(=O)O   \n",
       "2                O=C(O)O[C](O)O             O=C(O)O[C](O)O   \n",
       "3     CC(=O)OC(OO)C(=O)C(O)O[O]  CC(=O)OC(OO)C(=O)C(O)O[O]   \n",
       "4                O=[C]OC(O)(O)O             O=[C]OC(O)(O)O   \n",
       "...                         ...                        ...   \n",
       "2862                C1=C[CH]C=1                 [C]1=CC=C1   \n",
       "2863              C=C=C1C=[C]C1              C=C=C1C=[C]C1   \n",
       "2864             [CH2]C1=CC#CC1             [CH2]C1=CC#CC1   \n",
       "2865             [CH2]C1=CC#CC1              C=C1[CH]C#CC1   \n",
       "2866             [CH2]C1=CC#CC1              C=C1C=C=[C]C1   \n",
       "\n",
       "          closed_shell_smiles  closed_shell_H298 (kcal/mol)  \\\n",
       "0             O=C(O)OC(O)(O)O                   -272.617591   \n",
       "1             O=C(O)OC(O)(O)O                   -272.617591   \n",
       "2                O=C(O)OC(O)O                   -231.363843   \n",
       "3     CC(=O)OC(OO)C(=O)C(O)OO                   -234.219312   \n",
       "4                O=COC(O)(O)O                   -216.499044   \n",
       "...                       ...                           ...   \n",
       "2862                 C1=CC=C1                    104.333500   \n",
       "2863              C=C=C1C=CC1                     91.366874   \n",
       "2864               CC1=CC#CC1                    131.227000   \n",
       "2865               C=C1CC#CC1                    136.767000   \n",
       "2866              C=C1C=C=CC1                    126.273400   \n",
       "\n",
       "      closed_shell_S298 (cal/mol/K)  closed_shell_Cp300 (cal/mol/K)  \\\n",
       "0                         98.406448                       31.562314   \n",
       "1                         98.406448                       31.562314   \n",
       "2                         94.127419                       27.214474   \n",
       "3                        145.598548                       52.706616   \n",
       "4                         92.684651                       26.935163   \n",
       "...                             ...                             ...   \n",
       "2862                      57.818020                       15.504000   \n",
       "2863                      50.394958                       22.416919   \n",
       "2864                      72.956831                       23.409000   \n",
       "2865                      72.435147                       22.819000   \n",
       "2866                      68.934873                       23.109770   \n",
       "\n",
       "      closed_shell_Cp400 (cal/mol/K)  closed_shell_Cp500 (cal/mol/K)  \\\n",
       "0                          36.827897                       41.095602   \n",
       "1                          36.827897                       41.095602   \n",
       "2                          31.965583                       36.032333   \n",
       "3                          62.438776                       71.442505   \n",
       "4                          30.962696                       34.637667   \n",
       "...                              ...                             ...   \n",
       "2862                       19.920000                       23.474000   \n",
       "2863                       29.489266                       35.000461   \n",
       "2864                       30.017000                       34.619000   \n",
       "2865                       29.017000                       34.189000   \n",
       "2866                       30.529630                       36.181680   \n",
       "\n",
       "      closed_shell_Cp600 (cal/mol/K)  closed_shell_Cp800 (cal/mol/K)  ...  \\\n",
       "0                          44.234417                       48.821415  ...   \n",
       "1                          44.234417                       48.821415  ...   \n",
       "2                          39.309560                       44.059044  ...   \n",
       "3                          78.070363                       87.443365  ...   \n",
       "4                          37.592447                       42.375430  ...   \n",
       "...                              ...                             ...  ...   \n",
       "2862                       26.261000                       30.329000  ...   \n",
       "2863                       39.185145                       45.162263  ...   \n",
       "2864                       39.828000                       46.529000  ...   \n",
       "2865                       38.448000                       45.419000  ...   \n",
       "2866                       40.339270                       46.666770  ...   \n",
       "\n",
       "      radical_num_resonance  HBI_H298 (kcal/mol)  HBI_Sint298 (cal/mol/K)  \\\n",
       "0                         1            49.103465                -4.589644   \n",
       "1                         1            49.194200                -7.808181   \n",
       "2                         1            44.040974                -4.610350   \n",
       "3                         1            48.558735               -12.393484   \n",
       "4                         1            36.001481                -4.835845   \n",
       "...                     ...                  ...                      ...   \n",
       "2862                      2            51.773082                 3.435468   \n",
       "2863                      1            66.366211                25.815240   \n",
       "2864                      3            32.271344                 0.823844   \n",
       "2865                      3            26.731344                 0.773844   \n",
       "2866                      3            37.224944                 5.651544   \n",
       "\n",
       "     HBI_Cp300 (cal/mol/K) HBI_Cp400 (cal/mol/K)  HBI_Cp500 (cal/mol/K)  \\\n",
       "0                 2.364565              1.559776               0.412894   \n",
       "1                 0.968866              0.741762               0.402841   \n",
       "2                 1.758768              2.587490               2.714389   \n",
       "3                 3.863088              3.589450               2.161239   \n",
       "4                 5.443029              5.881647               4.696512   \n",
       "...                    ...                   ...                    ...   \n",
       "2862             -0.850889             -1.431243              -1.911856   \n",
       "2863              0.258337             -1.155381              -2.024215   \n",
       "2864             -0.802362             -1.521882              -1.227900   \n",
       "2865             -0.212362             -0.521882              -0.797900   \n",
       "2866             -0.503132             -2.034512              -2.790580   \n",
       "\n",
       "      HBI_Cp600 (cal/mol/K)  HBI_Cp800 (cal/mol/K) HBI_Cp1000 (cal/mol/K)  \\\n",
       "0                 -0.172027              -1.041685              -1.683176   \n",
       "1                  0.476043               0.534574               0.412253   \n",
       "2                  2.346110               1.178471               0.282207   \n",
       "3                  1.702481               1.262146              -0.928170   \n",
       "4                  3.708683               1.768296               0.144000   \n",
       "...                     ...                    ...                    ...   \n",
       "2862              -2.405821              -3.006968              -3.449835   \n",
       "2863              -2.373362              -2.314548              -2.090808   \n",
       "2864              -2.500041              -3.127836              -3.711522   \n",
       "2865              -1.120041              -2.017836              -2.931522   \n",
       "2866              -3.011311              -3.265606              -4.115742   \n",
       "\n",
       "     HBI_Cp1500 (cal/mol/K)  \n",
       "0                 -3.705453  \n",
       "1                 -1.394250  \n",
       "2                 -0.997631  \n",
       "3                 -3.176204  \n",
       "4                 -3.234417  \n",
       "...                     ...  \n",
       "2862              -4.556360  \n",
       "2863              -2.168527  \n",
       "2864              -2.960733  \n",
       "2865              -2.570733  \n",
       "2866              -4.911713  \n",
       "\n",
       "[2867 rows x 37 columns]"
      ]
     },
     "execution_count": 2,
     "metadata": {},
     "output_type": "execute_result"
    }
   ],
   "source": [
    "HBI_correction_df = pd.read_csv(\"../data/hbi.csv\")\n",
    "HBI_correction_df"
   ]
  },
  {
   "cell_type": "code",
   "execution_count": 3,
   "id": "b2918df4-a12f-4230-93f8-79be21f570dc",
   "metadata": {},
   "outputs": [],
   "source": [
    "mols = HBI_correction_df[\"radical_smiles\"].apply(make_mol)\n",
    "mols = mols.to_list()"
   ]
  },
  {
   "cell_type": "code",
   "execution_count": 4,
   "id": "b17603bc-f6f8-4709-8b15-00a2c0e7bb9a",
   "metadata": {},
   "outputs": [],
   "source": [
    "HBI_corrections = HBI_correction_df.apply(lambda x: ThermoData(\n",
    "    H298=(x[\"HBI_H298 (kcal/mol)\"], \"kcal/mol\"),\n",
    "    S298=(x[\"HBI_Sint298 (cal/mol/K)\"], \"cal/mol/K\"),\n",
    "    Cpdata=([x[f\"HBI_Cp{T} (cal/mol/K)\"] for T in Ts], \"cal/mol/K\"),\n",
    "    Tdata=(Ts, \"K\"),\n",
    "), axis=1)\n",
    "HBI_corrections = HBI_corrections.to_list()"
   ]
  },
  {
   "cell_type": "code",
   "execution_count": 5,
   "id": "afa7c5e3-a157-4b2f-8676-f7c9e18d452f",
   "metadata": {},
   "outputs": [],
   "source": [
    "mols_corrections = list(zip(mols, HBI_corrections))"
   ]
  },
  {
   "cell_type": "markdown",
   "id": "20b3f443-522c-404c-bc0d-663b177df10c",
   "metadata": {},
   "source": [
    "# Generate tree for plot"
   ]
  },
  {
   "cell_type": "code",
   "execution_count": 33,
   "id": "c4b32719-d6ee-4e5a-9ad3-995ed63f8946",
   "metadata": {},
   "outputs": [],
   "source": [
    "n_jobs = 4\n",
    "random.seed(0)\n",
    "samples = random.sample(mols_corrections, 4)"
   ]
  },
  {
   "cell_type": "code",
   "execution_count": 34,
   "id": "ba0b5971-05b8-4664-8d90-7e148e37a8a0",
   "metadata": {},
   "outputs": [
    {
     "name": "stderr",
     "output_type": "stream",
     "text": [
      "INFO:root:Getting molecule matches...\n",
      "[Parallel(n_jobs=4)]: Using backend MultiprocessingBackend with 4 concurrent workers.\n",
      "[Parallel(n_jobs=4)]: Done   2 out of   4 | elapsed:    0.0s remaining:    0.0s\n",
      "[Parallel(n_jobs=4)]: Done   4 out of   4 | elapsed:    0.0s remaining:    0.0s\n",
      "[Parallel(n_jobs=4)]: Done   4 out of   4 | elapsed:    0.0s finished\n",
      "INFO:root:4.0\n",
      "INFO:root:2\n",
      "INFO:root:3\n",
      "INFO:root:iteration_max achieved terminating early\n",
      "INFO:root:5\n",
      "INFO:root:6\n",
      "INFO:root:Getting molecule matches...\n"
     ]
    },
    {
     "name": "stdout",
     "output_type": "stream",
     "text": [
      "Tree generation:\n",
      "0.7418110370635986\n",
      "Mol mapping:\n",
      "0.47620081901550293\n"
     ]
    },
    {
     "name": "stderr",
     "output_type": "stream",
     "text": [
      "[Parallel(n_jobs=4)]: Using backend MultiprocessingBackend with 4 concurrent workers.\n",
      "[Parallel(n_jobs=4)]: Done   2 out of   4 | elapsed:    0.0s remaining:    0.0s\n",
      "[Parallel(n_jobs=4)]: Done   4 out of   4 | elapsed:    0.0s remaining:    0.0s\n",
      "[Parallel(n_jobs=4)]: Done   4 out of   4 | elapsed:    0.0s finished\n"
     ]
    }
   ],
   "source": [
    "#clean tree\n",
    "tree = ThermoGroups(label=\"radical\",\n",
    "                    name=\"Radical Corrections\")\n",
    "\n",
    "tree.entries[\"Root\"] = Entry(\n",
    "    index = 0,\n",
    "    label = \"Root\",\n",
    "    item = Group().from_adjacency_list(f\"\"\"1 * R u[1,2,3,4]\"\"\"),\n",
    "    data = None,\n",
    "    data_count = 0,\n",
    "    parent = None,\n",
    ")\n",
    "tree.entries[\"RJ1\"] = Entry(\n",
    "    index = 0,\n",
    "    label = \"RJ1\",\n",
    "    item = Group().from_adjacency_list(f\"\"\"1 * R u1\"\"\"),\n",
    "    data = None,\n",
    "    data_count = 0,\n",
    "    parent = tree.entries[\"Root\"],\n",
    ")\n",
    "\n",
    "tree.entries[\"Root\"].children = [tree.entries[\"RJ1\"]]\n",
    "tree.top = [tree.entries[\"Root\"]]\n",
    "\n",
    "min_mols_corrections_to_split = 1\n",
    "\n",
    "start = time.time()\n",
    "template_mol_map_exact = tree.generate_tree(mols_corrections=samples, obj=None, Ts=None, nprocs=1, min_splitable_entry_num=2,\n",
    "                                          min_mols_corrections_to_spawn=20, max_batch_size=np.inf, outlier_fraction=0.02, stratum_num=8,\n",
    "                                          new_fraction_threshold_to_reopt_node=0.25, extension_iteration_max=2, extension_iteration_item_cap=100, \n",
    "                                            min_mols_corrections_to_split=min_mols_corrections_to_split, n_jobs=n_jobs)\n",
    "end = time.time()\n",
    "print(\"Tree generation:\")\n",
    "print(end-start)\n",
    "\n",
    "\n",
    "tree.check_tree()\n",
    "\n",
    "start = time.time()\n",
    "template_mol_map = tree.get_molecule_matches(mols_corrections=samples,\n",
    "                                                     exact_matches_only=False, n_jobs=n_jobs)\n",
    "\n",
    "end = time.time()\n",
    "print(\"Mol mapping:\")\n",
    "print(end-start)"
   ]
  },
  {
   "cell_type": "code",
   "execution_count": 40,
   "id": "c71d8184-58a5-4209-9653-8e77f3501242",
   "metadata": {},
   "outputs": [
    {
     "name": "stdout",
     "output_type": "stream",
     "text": [
      "Root\n"
     ]
    },
    {
     "data": {
      "image/png": "[encoded data removed]",
      "text/plain": [
       "Molecule(smiles=\"C[CH]C=O\")"
      ]
     },
     "metadata": {},
     "output_type": "display_data"
    },
    {
     "data": {
      "image/png": "[encoded data removed]",
      "text/plain": [
       "Molecule(smiles=\"C=C(C)[CH]C(=C)O\")"
      ]
     },
     "metadata": {},
     "output_type": "display_data"
    },
    {
     "data": {
      "image/png": "[encoded data removed]",
      "text/plain": [
       "Molecule(smiles=\"CC(=O)OC1OC1(C)C[O]\")"
      ]
     },
     "metadata": {},
     "output_type": "display_data"
    },
    {
     "data": {
      "image/png": "[encoded data removed]",
      "text/plain": [
       "Molecule(smiles=\"[CH2]C(O)C=O\")"
      ]
     },
     "metadata": {},
     "output_type": "display_data"
    },
    {
     "name": "stdout",
     "output_type": "stream",
     "text": [
      "RJ1\n"
     ]
    },
    {
     "data": {
      "image/png": "[encoded data removed]",
      "text/plain": [
       "Molecule(smiles=\"C[CH]C=O\")"
      ]
     },
     "metadata": {},
     "output_type": "display_data"
    },
    {
     "data": {
      "image/png": "[encoded data removed]",
      "text/plain": [
       "Molecule(smiles=\"C=C(C)[CH]C(=C)O\")"
      ]
     },
     "metadata": {},
     "output_type": "display_data"
    },
    {
     "data": {
      "image/png": "[encoded data removed]",
      "text/plain": [
       "Molecule(smiles=\"CC(=O)OC1OC1(C)C[O]\")"
      ]
     },
     "metadata": {},
     "output_type": "display_data"
    },
    {
     "data": {
      "image/png": "[encoded data removed]",
      "text/plain": [
       "Molecule(smiles=\"[CH2]C(O)C=O\")"
      ]
     },
     "metadata": {},
     "output_type": "display_data"
    },
    {
     "name": "stdout",
     "output_type": "stream",
     "text": [
      "RJ1_Ext-1R-R_Ext-1R-R\n"
     ]
    },
    {
     "data": {
      "image/png": "[encoded data removed]",
      "text/plain": [
       "Molecule(smiles=\"C[CH]C=O\")"
      ]
     },
     "metadata": {},
     "output_type": "display_data"
    },
    {
     "data": {
      "image/png": "[encoded data removed]",
      "text/plain": [
       "Molecule(smiles=\"C=C(C)[CH]C(=C)O\")"
      ]
     },
     "metadata": {},
     "output_type": "display_data"
    },
    {
     "name": "stdout",
     "output_type": "stream",
     "text": [
      "RJ1_1R->C\n"
     ]
    },
    {
     "data": {
      "image/png": "[encoded data removed]",
      "text/plain": [
       "Molecule(smiles=\"[CH2]C(O)C=O\")"
      ]
     },
     "metadata": {},
     "output_type": "display_data"
    },
    {
     "name": "stdout",
     "output_type": "stream",
     "text": [
      "RJ1_N-1R->C\n"
     ]
    },
    {
     "data": {
      "image/png": "[encoded data removed]",
      "text/plain": [
       "Molecule(smiles=\"CC(=O)OC1OC1(C)C[O]\")"
      ]
     },
     "metadata": {},
     "output_type": "display_data"
    },
    {
     "name": "stdout",
     "output_type": "stream",
     "text": [
      "RJ1_Ext-1R-R_Ext-1R-R_Ext-3R!H-R_Ext-2R!H-R\n"
     ]
    },
    {
     "data": {
      "image/png": "[encoded data removed]",
      "text/plain": [
       "Molecule(smiles=\"C=C(C)[CH]C(=C)O\")"
      ]
     },
     "metadata": {},
     "output_type": "display_data"
    }
   ],
   "source": [
    "for label in template_mol_map:\n",
    "    print(label)\n",
    "    for mol in template_mol_map[label]:\n",
    "        display(mol[0])"
   ]
  },
  {
   "cell_type": "code",
   "execution_count": 41,
   "id": "64f031ab-f659-4008-bb11-a20a8252fbe6",
   "metadata": {},
   "outputs": [
    {
     "data": {
      "text/plain": [
       "[<Entry index=2 label=\"RJ1_Ext-1R-R_Ext-1R-R\">,\n",
       " <Entry index=3 label=\"RJ1_1R->C\">,\n",
       " <Entry index=4 label=\"RJ1_N-1R->C\">]"
      ]
     },
     "execution_count": 41,
     "metadata": {},
     "output_type": "execute_result"
    }
   ],
   "source": [
    "tree.entries[\"RJ1\"].children"
   ]
  },
  {
   "cell_type": "code",
   "execution_count": null,
   "id": "81fa34f5-de9e-43ad-9ec1-ce9273eaf5d3",
   "metadata": {},
   "outputs": [],
   "source": []
  }
 ],
 "metadata": {
  "kernelspec": {
   "display_name": "Python [conda env:mambaforge-rmg_rdmc_env_20230623_v2]",
   "language": "python",
   "name": "conda-env-mambaforge-rmg_rdmc_env_20230623_v2-py"
  },
  "language_info": {
   "codemirror_mode": {
    "name": "ipython",
    "version": 3
   },
   "file_extension": ".py",
   "mimetype": "text/x-python",
   "name": "python",
   "nbconvert_exporter": "python",
   "pygments_lexer": "ipython3",
   "version": "3.7.16"
  }
 },
 "nbformat": 4,
 "nbformat_minor": 5
}
