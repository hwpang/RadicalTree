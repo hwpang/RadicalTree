{
 "cells": [
  {
   "cell_type": "markdown",
   "id": "4f184497-682c-417e-9c96-f7d127d84898",
   "metadata": {},
   "source": [
    "# Split data"
   ]
  },
  {
   "cell_type": "code",
   "execution_count": 1,
   "id": "479dd2e5-a676-421b-b08f-d3bca8452502",
   "metadata": {},
   "outputs": [],
   "source": [
    "import json\n",
    "import pandas as pd\n",
    "from sklearn.model_selection import train_test_split"
   ]
  },
  {
   "cell_type": "code",
   "execution_count": 2,
   "id": "a764e371-921b-4fee-b18b-adf9534a385b",
   "metadata": {},
   "outputs": [],
   "source": [
    "hbi_unc_df = pd.read_csv(\"../data/hbi_unc.csv\")"
   ]
  },
  {
   "cell_type": "markdown",
   "id": "b0c77238-39aa-4cfe-9d24-d4165d2dfa6a",
   "metadata": {},
   "source": [
    "# Random split"
   ]
  },
  {
   "cell_type": "code",
   "execution_count": 3,
   "id": "cfcdd606-a56f-4f8a-be64-867f44d93bbe",
   "metadata": {},
   "outputs": [],
   "source": [
    "unique_radicals = hbi_unc_df[\"radical_smiles\"].unique()"
   ]
  },
  {
   "cell_type": "code",
   "execution_count": 4,
   "id": "7f395d41-20a3-4162-a2a4-00664512647c",
   "metadata": {},
   "outputs": [],
   "source": [
    "train, test = train_test_split(unique_radicals, test_size=0.1, random_state=0)"
   ]
  },
  {
   "cell_type": "code",
   "execution_count": 5,
   "id": "a7ff2160-16d8-4ac9-826a-f3887e12158c",
   "metadata": {},
   "outputs": [],
   "source": [
    "train_df = hbi_unc_df[hbi_unc_df[\"radical_smiles\"].isin(train)]\n",
    "train_inds = list(train_df.index)"
   ]
  },
  {
   "cell_type": "code",
   "execution_count": 6,
   "id": "09b9a98c-a774-4f40-8d22-fd7c794bdfcc",
   "metadata": {},
   "outputs": [],
   "source": [
    "test_df = hbi_unc_df[hbi_unc_df[\"radical_smiles\"].isin(test)]\n",
    "test_inds = list(test_df.index)"
   ]
  },
  {
   "cell_type": "code",
   "execution_count": 7,
   "id": "a88206c1-d77c-481e-8354-2a3bc65e31b0",
   "metadata": {},
   "outputs": [],
   "source": [
    "with open(\"../data/splits/random.json\", \"w\") as f:\n",
    "    json.dump((train_inds, test_inds), f)"
   ]
  },
  {
   "cell_type": "markdown",
   "id": "573663ec-1f6d-47f3-b2c4-220cf5eb9846",
   "metadata": {},
   "source": [
    "# Random split with validation"
   ]
  },
  {
   "cell_type": "code",
   "execution_count": 3,
   "id": "c6d3e000-a374-462a-9364-994161c49ea1",
   "metadata": {},
   "outputs": [],
   "source": [
    "unique_radicals = hbi_unc_df[\"radical_smiles\"].unique()\n",
    "train, test = train_test_split(unique_radicals, test_size=0.1, random_state=0)\n",
    "train, val = train_test_split(train, test_size=0.1 / 0.9, random_state=0)"
   ]
  },
  {
   "cell_type": "code",
   "execution_count": 8,
   "id": "195fb131-07e5-4abd-93b4-a5b77fd2d691",
   "metadata": {},
   "outputs": [
    {
     "data": {
      "text/plain": [
       "2257"
      ]
     },
     "execution_count": 8,
     "metadata": {},
     "output_type": "execute_result"
    }
   ],
   "source": [
    "train_df = hbi_unc_df[hbi_unc_df[\"radical_smiles\"].isin(train)]\n",
    "train_inds = list(train_df.index)\n",
    "len(train_inds)"
   ]
  },
  {
   "cell_type": "code",
   "execution_count": 9,
   "id": "59b2997d-8ec2-4ce6-8d93-964c3e893e1f",
   "metadata": {},
   "outputs": [
    {
     "data": {
      "text/plain": [
       "275"
      ]
     },
     "execution_count": 9,
     "metadata": {},
     "output_type": "execute_result"
    }
   ],
   "source": [
    "val_df = hbi_unc_df[hbi_unc_df[\"radical_smiles\"].isin(val)]\n",
    "val_inds = list(val_df.index)\n",
    "len(val_inds)"
   ]
  },
  {
   "cell_type": "code",
   "execution_count": 10,
   "id": "65aaf3b4-40e9-4dfd-8246-6c2292d90bed",
   "metadata": {},
   "outputs": [
    {
     "data": {
      "text/plain": [
       "277"
      ]
     },
     "execution_count": 10,
     "metadata": {},
     "output_type": "execute_result"
    }
   ],
   "source": [
    "test_df = hbi_unc_df[hbi_unc_df[\"radical_smiles\"].isin(test)]\n",
    "test_inds = list(test_df.index)\n",
    "len(test_inds)"
   ]
  },
  {
   "cell_type": "code",
   "execution_count": 11,
   "id": "b1383015-21e7-4715-a549-5e77cdfd60df",
   "metadata": {},
   "outputs": [],
   "source": [
    "with open(\"../data/splits/random_val.json\", \"w\") as f:\n",
    "    json.dump((train_inds, val_inds, test_inds), f)"
   ]
  },
  {
   "cell_type": "code",
   "execution_count": null,
   "id": "b71a0a05-8836-452d-b414-e556a1ffc876",
   "metadata": {},
   "outputs": [],
   "source": []
  }
 ],
 "metadata": {
  "kernelspec": {
   "display_name": "Python [conda env:mambaforge-rmg_rdmc_env_20230623_v2]",
   "language": "python",
   "name": "conda-env-mambaforge-rmg_rdmc_env_20230623_v2-py"
  },
  "language_info": {
   "codemirror_mode": {
    "name": "ipython",
    "version": 3
   },
   "file_extension": ".py",
   "mimetype": "text/x-python",
   "name": "python",
   "nbconvert_exporter": "python",
   "pygments_lexer": "ipython3",
   "version": "3.7.16"
  }
 },
 "nbformat": 4,
 "nbformat_minor": 5
}
