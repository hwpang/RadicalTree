{
 "cells": [
  {
   "cell_type": "markdown",
   "id": "4f184497-682c-417e-9c96-f7d127d84898",
   "metadata": {},
   "source": [
    "# Split data"
   ]
  },
  {
   "cell_type": "code",
   "execution_count": 1,
   "id": "479dd2e5-a676-421b-b08f-d3bca8452502",
   "metadata": {},
   "outputs": [],
   "source": [
    "import json\n",
    "import pandas as pd\n",
    "from sklearn.model_selection import train_test_split"
   ]
  },
  {
   "cell_type": "code",
   "execution_count": 2,
   "id": "a764e371-921b-4fee-b18b-adf9534a385b",
   "metadata": {},
   "outputs": [],
   "source": [
    "hbi_unc_df = pd.read_csv(\"../data/hbi_unc.csv\")"
   ]
  },
  {
   "cell_type": "markdown",
   "id": "b0c77238-39aa-4cfe-9d24-d4165d2dfa6a",
   "metadata": {},
   "source": [
    "# Random split"
   ]
  },
  {
   "cell_type": "code",
   "execution_count": 3,
   "id": "cfcdd606-a56f-4f8a-be64-867f44d93bbe",
   "metadata": {},
   "outputs": [],
   "source": [
    "unique_radicals = hbi_unc_df[\"radical_smiles\"].unique()"
   ]
  },
  {
   "cell_type": "code",
   "execution_count": 4,
   "id": "7f395d41-20a3-4162-a2a4-00664512647c",
   "metadata": {},
   "outputs": [],
   "source": [
    "train, test = train_test_split(unique_radicals, test_size=0.1, random_state=0)"
   ]
  },
  {
   "cell_type": "code",
   "execution_count": 5,
   "id": "a7ff2160-16d8-4ac9-826a-f3887e12158c",
   "metadata": {},
   "outputs": [],
   "source": [
    "train_df = hbi_unc_df[hbi_unc_df[\"radical_smiles\"].isin(train)]\n",
    "train_inds = list(train_df.index)"
   ]
  },
  {
   "cell_type": "code",
   "execution_count": 6,
   "id": "09b9a98c-a774-4f40-8d22-fd7c794bdfcc",
   "metadata": {},
   "outputs": [],
   "source": [
    "test_df = hbi_unc_df[hbi_unc_df[\"radical_smiles\"].isin(test)]\n",
    "test_inds = list(test_df.index)"
   ]
  },
  {
   "cell_type": "code",
   "execution_count": 7,
   "id": "a88206c1-d77c-481e-8354-2a3bc65e31b0",
   "metadata": {},
   "outputs": [],
   "source": [
    "with open(\"../data/splits/random.json\", \"w\") as f:\n",
    "    json.dump((train_inds, test_inds), f)"
   ]
  },
  {
   "cell_type": "code",
   "execution_count": null,
   "id": "614e0145-1b37-4a05-b26b-fc8210f39efe",
   "metadata": {},
   "outputs": [],
   "source": []
  }
 ],
 "metadata": {
  "kernelspec": {
   "display_name": "Python [conda env:mambaforge-rmg_rdmc_env_20230623_v2]",
   "language": "python",
   "name": "conda-env-mambaforge-rmg_rdmc_env_20230623_v2-py"
  },
  "language_info": {
   "codemirror_mode": {
    "name": "ipython",
    "version": 3
   },
   "file_extension": ".py",
   "mimetype": "text/x-python",
   "name": "python",
   "nbconvert_exporter": "python",
   "pygments_lexer": "ipython3",
   "version": "3.7.16"
  }
 },
 "nbformat": 4,
 "nbformat_minor": 5
}
