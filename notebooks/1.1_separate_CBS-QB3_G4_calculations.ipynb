{
 "cells": [
  {
   "cell_type": "code",
   "execution_count": 6,
   "id": "ab083757-6496-43cb-af9f-bd965d0c259c",
   "metadata": {},
   "outputs": [],
   "source": [
    "import sys\n",
    "sys.path.insert(0,\"/home/gridsan/hwpang/Software/RMG-Py/\")\n",
    "\n",
    "from rmgpy.data.thermo import ThermoLibrary, ThermoDatabase"
   ]
  },
  {
   "cell_type": "code",
   "execution_count": 23,
   "id": "9df8a140-540b-4bf5-8c20-9eabdf2b5e32",
   "metadata": {},
   "outputs": [
    {
     "data": {
      "text/plain": [
       "<rmgpy.data.thermo.ThermoLibrary at 0x7f3097ea5d50>"
      ]
     },
     "execution_count": 23,
     "metadata": {},
     "output_type": "execute_result"
    }
   ],
   "source": [
    "thermo_library = ThermoLibrary()\n",
    "thermo_library.load(\n",
    "    \"../data/johnson.py\",\n",
    "    ThermoDatabase().local_context,\n",
    "    ThermoDatabase().global_context,\n",
    ")"
   ]
  },
  {
   "cell_type": "code",
   "execution_count": 24,
   "id": "8505fc9e-7350-4039-85e8-39446f39f588",
   "metadata": {},
   "outputs": [],
   "source": [
    "thermo_library_cbsqb3 = ThermoLibrary()\n",
    "\n",
    "for label, entry in list(thermo_library.entries.items()):\n",
    "    if \"CBS-QB3\" in entry.long_desc:\n",
    "        thermo_library_cbsqb3.entries[label] = entry\n",
    "        del thermo_library.entries[label]"
   ]
  },
  {
   "cell_type": "code",
   "execution_count": 28,
   "id": "d877835a-823c-4903-92ba-5f061b82ee21",
   "metadata": {},
   "outputs": [],
   "source": [
    "thermo_library_cbsqb3.save(\"../data/johnson_cbs-qb3.py\")"
   ]
  },
  {
   "cell_type": "code",
   "execution_count": 29,
   "id": "cd6764a2-94b2-4d00-9abe-56e92910c914",
   "metadata": {},
   "outputs": [],
   "source": [
    "thermo_library.save(\"../data/johnson_g4.py\")"
   ]
  },
  {
   "cell_type": "code",
   "execution_count": null,
   "id": "0d40962b-e93b-4d4e-9e89-b858e75af48e",
   "metadata": {},
   "outputs": [],
   "source": []
  }
 ],
 "metadata": {
  "kernelspec": {
   "display_name": "Python [conda env:mambaforge-rmg_rdmc_env_20230623_v2]",
   "language": "python",
   "name": "conda-env-mambaforge-rmg_rdmc_env_20230623_v2-py"
  },
  "language_info": {
   "codemirror_mode": {
    "name": "ipython",
    "version": 3
   },
   "file_extension": ".py",
   "mimetype": "text/x-python",
   "name": "python",
   "nbconvert_exporter": "python",
   "pygments_lexer": "ipython3",
   "version": "3.7.16"
  }
 },
 "nbformat": 4,
 "nbformat_minor": 5
}
