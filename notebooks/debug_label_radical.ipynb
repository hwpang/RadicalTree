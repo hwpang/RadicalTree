{
 "cells": [
  {
   "cell_type": "markdown",
   "id": "01bd1295-4c26-4d07-95ce-4585c3f41312",
   "metadata": {},
   "source": [
    "# Debug unsplittable molecules"
   ]
  },
  {
   "cell_type": "code",
   "execution_count": 1,
   "id": "9401f259-de13-49ba-9a0e-f2d8d3535d94",
   "metadata": {},
   "outputs": [
    {
     "name": "stderr",
     "output_type": "stream",
     "text": [
      "WARNING:root:No normalization for BCUT2D_MWHI\n",
      "WARNING:root:No normalization for BCUT2D_MWLOW\n",
      "WARNING:root:No normalization for BCUT2D_CHGHI\n",
      "WARNING:root:No normalization for BCUT2D_CHGLO\n",
      "WARNING:root:No normalization for BCUT2D_LOGPHI\n",
      "WARNING:root:No normalization for BCUT2D_LOGPLOW\n",
      "WARNING:root:No normalization for BCUT2D_MRHI\n",
      "WARNING:root:No normalization for BCUT2D_MRLOW\n"
     ]
    }
   ],
   "source": [
    "import sys\n",
    "sys.path.insert(0,\"/home/gridsan/hwpang/Software/RMG-Py/\")\n",
    "sys.path.insert(0,\"..\")\n",
    "\n",
    "import os\n",
    "import json\n",
    "\n",
    "import random\n",
    "import time as time\n",
    "import pandas as pd\n",
    "import numpy as np\n",
    "from pathlib import Path\n",
    "\n",
    "from rmgpy.molecule.group import Group\n",
    "from rmgpy.data.base import Entry\n",
    "from rmgpy.data.thermo import ThermoData\n",
    "\n",
    "from tree.thermo import ThermoGroups, average_thermo_data\n",
    "from tree.utils import make_mol\n",
    "from tree.parameters import Ts"
   ]
  },
  {
   "cell_type": "markdown",
   "id": "1b16d55c-2ee8-4f5f-abae-aceac622daec",
   "metadata": {},
   "source": [
    "# Make data to debug"
   ]
  },
  {
   "cell_type": "code",
   "execution_count": 6,
   "id": "63f98755-b4a3-4df7-acde-e0ad7c52d747",
   "metadata": {},
   "outputs": [],
   "source": [
    "mol1 = make_mol(\"C=C(CO[O])CC(C)=O\", label=True)\n",
    "mol2 = make_mol(\"C=C(O)CC(=C)CO[O]\", label=True)\n",
    "\n",
    "mols = [mol1, mol2]\n",
    "corrections = [\n",
    "    ThermoData(\n",
    "        Tdata=(Ts, \"K\"),\n",
    "        Cpdata=(Ts, \"cal/mol/K\", \"+|-\", Ts),\n",
    "        H298=(Ts[0], \"kcal/mol\", \"+|-\", Ts[0]),\n",
    "        S298=(Ts[0], \"cal/mol/K\", \"+|-\", Ts[0]),\n",
    "    ),\n",
    "    ThermoData(\n",
    "        Tdata=(Ts, \"K\"),\n",
    "        Cpdata=(Ts, \"cal/mol/K\", \"+|-\", Ts),\n",
    "        H298=(Ts[0], \"kcal/mol\", \"+|-\", Ts[0]),\n",
    "        S298=(Ts[0], \"cal/mol/K\", \"+|-\", Ts[0]),\n",
    "    ),\n",
    "]\n",
    "\n",
    "mols_corrections_all = list(zip(mols, corrections))"
   ]
  },
  {
   "cell_type": "code",
   "execution_count": 7,
   "id": "dacfac47-c6d6-4091-a933-9baa141a3d2a",
   "metadata": {},
   "outputs": [
    {
     "name": "stdout",
     "output_type": "stream",
     "text": [
      "multiplicity 2\n",
      "1    C u0 p0 c0 {2,D} {10,S} {11,S}\n",
      "2    C u0 p0 c0 {1,D} {3,S} {6,S}\n",
      "3    C u0 p0 c0 {2,S} {4,S} {12,S} {13,S}\n",
      "4    O u0 p2 c0 {3,S} {5,S}\n",
      "5  * O u1 p2 c0 {4,S}\n",
      "6    C u0 p0 c0 {2,S} {7,S} {14,S} {15,S}\n",
      "7    C u0 p0 c0 {6,S} {8,S} {9,D}\n",
      "8    C u0 p0 c0 {7,S} {16,S} {17,S} {18,S}\n",
      "9    O u0 p2 c0 {7,D}\n",
      "10   H u0 p0 c0 {1,S}\n",
      "11   H u0 p0 c0 {1,S}\n",
      "12   H u0 p0 c0 {3,S}\n",
      "13   H u0 p0 c0 {3,S}\n",
      "14   H u0 p0 c0 {6,S}\n",
      "15   H u0 p0 c0 {6,S}\n",
      "16   H u0 p0 c0 {8,S}\n",
      "17   H u0 p0 c0 {8,S}\n",
      "18   H u0 p0 c0 {8,S}\n",
      "\n"
     ]
    }
   ],
   "source": [
    "print(mol1.to_adjacency_list())"
   ]
  },
  {
   "cell_type": "markdown",
   "id": "20b3f443-522c-404c-bc0d-663b177df10c",
   "metadata": {},
   "source": [
    "# Generate tree"
   ]
  },
  {
   "cell_type": "code",
   "execution_count": 8,
   "id": "c4b32719-d6ee-4e5a-9ad3-995ed63f8946",
   "metadata": {},
   "outputs": [],
   "source": [
    "n_jobs = 4\n",
    "# save_dir = \"split-random_run-test\"\n",
    "# os.makedirs(f\"../models/{save_dir}/\", exist_ok=True)\n",
    "mols_corrections = mols_corrections_all"
   ]
  },
  {
   "cell_type": "code",
   "execution_count": 9,
   "id": "ba0b5971-05b8-4664-8d90-7e148e37a8a0",
   "metadata": {},
   "outputs": [
    {
     "name": "stderr",
     "output_type": "stream",
     "text": [
      "INFO:root:Getting molecule matches...\n",
      "[Parallel(n_jobs=4)]: Using backend MultiprocessingBackend with 4 concurrent workers.\n",
      "[Parallel(n_jobs=4)]: Done   2 out of   2 | elapsed:    0.0s remaining:    0.0s\n",
      "[Parallel(n_jobs=4)]: Done   2 out of   2 | elapsed:    0.0s finished\n",
      "INFO:root:Number of datapoints: 2.0\n",
      "INFO:root:Tree size: 2\n",
      "ERROR:root:split violation\n",
      "ERROR:root:parent\n",
      "ERROR:root:1 * R u1\n",
      "\n",
      "ERROR:root:0\n",
      "ERROR:root:[[<AtomType \"O\">], [<AtomType \"O\">]]\n",
      "ERROR:root:[[], []]\n",
      "ERROR:root:bonds:\n",
      "ERROR:root:<Molecule \"C=C(O)CC(=C)CO[O]\">\n",
      "ERROR:root:C=C(O)CC(=C)CO[O]\n",
      "ERROR:root:multiplicity 2\n",
      "1    O u0 p2 c0 {3,S} {5,S}\n",
      "2    O u0 p2 c0 {7,S} {18,S}\n",
      "3  * O u1 p2 c0 {1,S}\n",
      "4    C u0 p0 c0 {6,S} {7,S} {10,S} {11,S}\n",
      "5    C u0 p0 c0 {1,S} {6,S} {12,S} {13,S}\n",
      "6    C u0 p0 c0 {4,S} {5,S} {8,D}\n",
      "7    C u0 p0 c0 {2,S} {4,S} {9,D}\n",
      "8    C u0 p0 c0 {6,D} {16,S} {17,S}\n",
      "9    C u0 p0 c0 {7,D} {14,S} {15,S}\n",
      "10   H u0 p0 c0 {4,S}\n",
      "11   H u0 p0 c0 {4,S}\n",
      "12   H u0 p0 c0 {5,S}\n",
      "13   H u0 p0 c0 {5,S}\n",
      "14   H u0 p0 c0 {9,S}\n",
      "15   H u0 p0 c0 {9,S}\n",
      "16   H u0 p0 c0 {8,S}\n",
      "17   H u0 p0 c0 {8,S}\n",
      "18   H u0 p0 c0 {2,S}\n",
      "\n",
      "ERROR:root:<Molecule \"C=C(CO[O])CC(C)=O\">\n",
      "ERROR:root:C=C(CO[O])CC(C)=O\n",
      "ERROR:root:multiplicity 2\n",
      "1    O u0 p2 c0 {3,S} {5,S}\n",
      "2    O u0 p2 c0 {8,D}\n",
      "3  * O u1 p2 c0 {1,S}\n",
      "4    C u0 p0 c0 {7,S} {8,S} {10,S} {11,S}\n",
      "5    C u0 p0 c0 {1,S} {7,S} {12,S} {13,S}\n",
      "6    C u0 p0 c0 {8,S} {14,S} {15,S} {16,S}\n",
      "7    C u0 p0 c0 {4,S} {5,S} {9,D}\n",
      "8    C u0 p0 c0 {2,D} {4,S} {6,S}\n",
      "9    C u0 p0 c0 {7,D} {17,S} {18,S}\n",
      "10   H u0 p0 c0 {4,S}\n",
      "11   H u0 p0 c0 {4,S}\n",
      "12   H u0 p0 c0 {5,S}\n",
      "13   H u0 p0 c0 {5,S}\n",
      "14   H u0 p0 c0 {6,S}\n",
      "15   H u0 p0 c0 {6,S}\n",
      "16   H u0 p0 c0 {6,S}\n",
      "17   H u0 p0 c0 {9,S}\n",
      "18   H u0 p0 c0 {9,S}\n",
      "\n",
      "ERROR:root:Clearing Regularization Dimensions and Reattempting\n",
      "INFO:root:Tree size: 2\n",
      "INFO:root:iteration_max achieved terminating early\n",
      "INFO:root:Tree size: 4\n",
      "INFO:root:Getting molecule matches...\n"
     ]
    },
    {
     "name": "stdout",
     "output_type": "stream",
     "text": [
      "Tree generation:\n",
      "1.6355047225952148\n"
     ]
    },
    {
     "name": "stderr",
     "output_type": "stream",
     "text": [
      "[Parallel(n_jobs=4)]: Using backend MultiprocessingBackend with 4 concurrent workers.\n",
      "[Parallel(n_jobs=4)]: Done   2 out of   2 | elapsed:    0.0s remaining:    0.0s\n",
      "[Parallel(n_jobs=4)]: Done   2 out of   2 | elapsed:    0.0s finished\n"
     ]
    },
    {
     "name": "stdout",
     "output_type": "stream",
     "text": [
      "Mol mapping:\n",
      "0.20470309257507324\n",
      "Make corrections:\n",
      "0.2272946834564209\n"
     ]
    },
    {
     "name": "stderr",
     "output_type": "stream",
     "text": [
      "[Parallel(n_jobs=4)]: Using backend MultiprocessingBackend with 4 concurrent workers.\n",
      "[Parallel(n_jobs=4)]: Done   2 out of   4 | elapsed:    0.0s remaining:    0.0s\n",
      "[Parallel(n_jobs=4)]: Done   4 out of   4 | elapsed:    0.0s remaining:    0.0s\n",
      "[Parallel(n_jobs=4)]: Done   4 out of   4 | elapsed:    0.0s finished\n"
     ]
    }
   ],
   "source": [
    "#clean tree\n",
    "tree = ThermoGroups(\n",
    "    label=\"radical\",\n",
    "    name=\"HBI correction\",\n",
    ")\n",
    "\n",
    "tree.entries[\"Root\"] = Entry(\n",
    "    index = 0,\n",
    "    label = \"Root\",\n",
    "    item = Group().from_adjacency_list(f\"\"\"1 * R u[1,2,3,4]\"\"\"),\n",
    "    data = None,\n",
    "    data_count = 0,\n",
    "    parent = None,\n",
    ")\n",
    "tree.entries[\"RJ1\"] = Entry(\n",
    "    index = 0,\n",
    "    label = \"RJ1\",\n",
    "    item = Group().from_adjacency_list(f\"\"\"1 * R u1\"\"\"),\n",
    "    data = None,\n",
    "    data_count = 0,\n",
    "    parent = tree.entries[\"Root\"],\n",
    ")\n",
    "\n",
    "tree.entries[\"Root\"].children = [tree.entries[\"RJ1\"]]\n",
    "tree.top = [tree.entries[\"Root\"]]\n",
    "\n",
    "\n",
    "start = time.time()\n",
    "template_mol_map_exact = tree.generate_tree(mols_corrections=mols_corrections, obj=None, Ts=None, nprocs=1, min_splitable_entry_num=2,\n",
    "                                          min_mols_corrections_to_spawn=20, max_batch_size=np.inf, outlier_fraction=0.02, stratum_num=8,\n",
    "                                          new_fraction_threshold_to_reopt_node=0.25, extension_iteration_max=2, extension_iteration_item_cap=100, \n",
    "                                            min_mols_corrections_to_split=1, n_jobs=n_jobs)\n",
    "end = time.time()\n",
    "print(\"Tree generation:\")\n",
    "print(end-start)\n",
    "\n",
    "tree.check_tree()\n",
    "\n",
    "start = time.time()\n",
    "template_mol_map = tree.get_molecule_matches(mols_corrections=mols_corrections,\n",
    "                                                     exact_matches_only=False, n_jobs=n_jobs)\n",
    "end = time.time()\n",
    "print(\"Mol mapping:\")\n",
    "print(end-start)\n",
    "\n",
    "tree.regularize(template_mol_map)\n",
    "\n",
    "start = time.time()\n",
    "tree.make_corrections_from_template_mol_map(template_mol_map, n_jobs=n_jobs)\n",
    "end = time.time()\n",
    "print(\"Make corrections:\")\n",
    "print(end-start)\n",
    "\n",
    "tree.check_tree()\n",
    "\n",
    "# def add_children(old_node, new_node):\n",
    "#     for old_child in old_node.children:\n",
    "#         tree.entries[old_child.label] = deepcopy(old_child)\n",
    "#         tree.entries[old_child.label].parent = new_node\n",
    "#         new_node.children.append(tree.entries[old_child.label])\n",
    "#         add_children(old_child, tree.entries[old_child.label])\n",
    "# tree.entries[\"RJ2_triplet\"] = deepcopy(thermo_database.groups[\"radical\"].entries[\"RJ2_triplet\"])\n",
    "# tree.entries[\"RJ2_triplet\"].parent = tree.entries[\"Root\"]\n",
    "# tree.entries[\"Root\"].children.append(tree.entries[\"RJ2_triplet\"])\n",
    "# add_children(thermo_database.groups[\"radical\"].entries[\"RJ2_triplet\"], tree.entries[\"RJ2_triplet\"])\n",
    "\n",
    "# tree.entries[\"RJ3\"] = deepcopy(thermo_database.groups[\"radical\"].entries[\"RJ3\"])\n",
    "# tree.entries[\"RJ3\"].parent = tree.entries[\"Root\"]\n",
    "# tree.entries[\"Root\"].children.append(tree.entries[\"RJ3\"])\n",
    "# add_children(thermo_database.groups[\"radical\"].entries[\"RJ3\"], tree.entries[\"RJ3\"])\n",
    "\n",
    "# tree.save(f\"../models/{save_dir}/tree.py\")"
   ]
  },
  {
   "cell_type": "code",
   "execution_count": null,
   "id": "81fa34f5-de9e-43ad-9ec1-ce9273eaf5d3",
   "metadata": {},
   "outputs": [],
   "source": []
  },
  {
   "cell_type": "code",
   "execution_count": null,
   "id": "f07467b4-54b8-4b88-b8fb-8c120c9ec7ca",
   "metadata": {},
   "outputs": [],
   "source": []
  }
 ],
 "metadata": {
  "kernelspec": {
   "display_name": "Python [conda env:mambaforge-rmg_rdmc_env_20230623_v2]",
   "language": "python",
   "name": "conda-env-mambaforge-rmg_rdmc_env_20230623_v2-py"
  },
  "language_info": {
   "codemirror_mode": {
    "name": "ipython",
    "version": 3
   },
   "file_extension": ".py",
   "mimetype": "text/x-python",
   "name": "python",
   "nbconvert_exporter": "python",
   "pygments_lexer": "ipython3",
   "version": "3.7.16"
  }
 },
 "nbformat": 4,
 "nbformat_minor": 5
}
