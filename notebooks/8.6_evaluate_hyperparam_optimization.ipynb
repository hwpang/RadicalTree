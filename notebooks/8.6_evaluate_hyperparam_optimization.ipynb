{
 "cells": [
  {
   "cell_type": "markdown",
   "id": "01bd1295-4c26-4d07-95ce-4585c3f41312",
   "metadata": {},
   "source": [
    "# Compare prediction"
   ]
  },
  {
   "cell_type": "code",
   "execution_count": null,
   "id": "560074aa-4576-43e0-8d2f-ee419c3d409d",
   "metadata": {},
   "outputs": [],
   "source": [
    "import sys\n",
    "sys.path.insert(0,\"/home/gridsan/hwpang/Software/RMG-Py/\")\n",
    "sys.path.insert(0,\"..\")\n",
    "\n",
    "import json\n",
    "import numpy as np\n",
    "from sklearn.metrics import mean_absolute_error, mean_squared_error, r2_score\n",
    "import pandas as pd\n",
    "import string\n",
    "import matplotlib.pyplot as plt\n",
    "import matplotlib\n",
    "matplotlib.rcParams['mathtext.fontset'] = 'stix'\n",
    "matplotlib.rcParams['font.family'] = 'STIXGeneral'\n",
    "\n",
    "from tree.parameters import Ts\n",
    "from tree.utils import linestyles, markers"
   ]
  },
  {
   "cell_type": "code",
   "execution_count": null,
   "id": "04ee0b62-ba14-4908-8d1c-c6fddbddea80",
   "metadata": {},
   "outputs": [],
   "source": [
    "hbi_unc_df = pd.read_csv(\"../data/hbi_unc.csv\")\n",
    "\n",
    "with open(\"../data/splits/random_val.json\", \"r\") as f:\n",
    "    train_inds, val_inds, test_inds = json.load(f)\n",
    "\n",
    "num_training = len(train_inds)\n",
    "\n",
    "val_df = hbi_unc_df.loc[val_inds, :]\n",
    "val_df = val_df.reset_index(drop=True)"
   ]
  },
  {
   "cell_type": "markdown",
   "id": "d846efdd-7768-4f2b-8699-3ab13d552001",
   "metadata": {},
   "source": [
    "# Load test results"
   ]
  },
  {
   "cell_type": "code",
   "execution_count": null,
   "id": "3e46c5ec-94fe-4dec-a2a2-201e7f492f02",
   "metadata": {},
   "outputs": [],
   "source": [
    "sidt_df_dict = {}\n",
    "thresholds = [0.00005, 0.0001, 0.0002, 0.0005, 0.0006, 0.0007, 0.0008, 0.0009, 0.001, 0.002, 0.005, 0.01, 0.02, 0.05]\n",
    "run_dirs = {\n",
    "    \"../models/split-random_val_run-model-variance-prepruning-bounded_hyperparam-opt\": \"MP$\\lambda$_UB\",\n",
    "}\n",
    "for run_dir in run_dirs:\n",
    "    for threshold in thresholds:\n",
    "        thres = f\"{threshold:f}\".rstrip(\"0\")\n",
    "        sidt_df = pd.read_csv(f\"{run_dir}/lambda-{thres}/validation.csv\")\n",
    "        sidt_df_dict[run_dir, threshold] = sidt_df"
   ]
  },
  {
   "cell_type": "markdown",
   "id": "f5369707-5945-421b-93e4-d477ed2d3441",
   "metadata": {},
   "source": [
    "# Get tree size"
   ]
  },
  {
   "cell_type": "code",
   "execution_count": null,
   "id": "03ba7daf-2cd5-4d43-91bb-1d69eae23d65",
   "metadata": {},
   "outputs": [],
   "source": [
    "tree_sizes = {}\n",
    "for run_dir in run_dirs:\n",
    "    for threshold in thresholds:\n",
    "        thres = f\"{threshold:f}\".rstrip(\"0\")\n",
    "        tree_path = f\"{run_dir}/lambda-{thres}/tree.py\"\n",
    "        with open(tree_path, \"r\") as f:\n",
    "            lines = f.readlines()\n",
    "            tree_size = sum(\"index = \" in line for line in lines)\n",
    "            tree_sizes[run_dir, threshold] = tree_size\n",
    "            \n",
    "# tree_sizes"
   ]
  },
  {
   "cell_type": "markdown",
   "id": "49541d23-bafb-4480-92de-a178e3fbde8e",
   "metadata": {},
   "source": [
    "# Get RMSE/MAE"
   ]
  },
  {
   "cell_type": "code",
   "execution_count": null,
   "id": "17a0dbe3-4c9d-4226-85d2-b4ce71295e47",
   "metadata": {},
   "outputs": [],
   "source": [
    "temp_dict = {\n",
    "    \"threshold\": [],\n",
    "    \"run_dir\": [],\n",
    "    \"tree_size\": [],\n",
    "}\n",
    "\n",
    "for column in val_df.columns:\n",
    "    if column.startswith(\"HBI_\"):\n",
    "        temp_dict[\"rmse_\"+column] = []\n",
    "        temp_dict[\"mae_\"+column] = []\n",
    "        temp_dict[\"bounded_\"+column] = []\n",
    "\n",
    "for (run_dir, threshold), sidt_df in sidt_df_dict.items():\n",
    "    temp_dict[\"threshold\"].append(threshold)\n",
    "    temp_dict[\"run_dir\"].append(run_dir)\n",
    "    temp_dict[\"tree_size\"].append(tree_sizes[run_dir, threshold])\n",
    "    for column in val_df.columns:\n",
    "        if column.startswith(\"HBI_\"):\n",
    "            true_ys = val_df[column]\n",
    "            pred_ys = sidt_df[column]\n",
    "            temp_dict[\"rmse_\"+column].append(np.sqrt(mean_squared_error(true_ys, pred_ys)))\n",
    "            temp_dict[\"mae_\"+column].append(mean_absolute_error(true_ys, pred_ys))\n",
    "            \n",
    "            pred_unc = sidt_df[\"unc_\"+column]\n",
    "            true_err = (sidt_df[column] - val_df[column]).abs()\n",
    "            data_unc = val_df[\"unc_\"+column]\n",
    "            temp_dict[\"bounded_\"+column].append(sum((pred_unc >= true_err)) / len(pred_unc))\n",
    "\n",
    "result_df = pd.DataFrame(temp_dict)\n",
    "result_df"
   ]
  },
  {
   "cell_type": "markdown",
   "id": "db3c1787-362c-4507-937f-eceaf6316390",
   "metadata": {},
   "source": [
    "# Plot: RMSE/MAE vs. thresholds"
   ]
  },
  {
   "cell_type": "code",
   "execution_count": null,
   "id": "e8e6c6d4-e48c-4ff2-a63b-7f50da23ae8e",
   "metadata": {},
   "outputs": [],
   "source": [
    "run_dirs_to_plot = run_dirs.values()\n",
    "\n",
    "fig, axs = plt.subplots(nrows=3, ncols=3, sharex=True, figsize=(9, 7))\n",
    "\n",
    "counter = 0\n",
    "\n",
    "for run_dir in run_dirs:\n",
    "    if run_dirs[run_dir] in run_dirs_to_plot:\n",
    "        ax = axs.flat[0]\n",
    "        label = \"rmse_HBI_H298 (kcal/mol)\"\n",
    "        ax.plot(result_df.loc[result_df[\"run_dir\"]==run_dir, \"threshold\"], result_df.loc[result_df[\"run_dir\"]==run_dir, label], label=run_dirs[run_dir], linestyle=linestyles[counter], marker=markers[counter])\n",
    "        ax.set_title(\"(a) $\\Delta\\Delta H^\\circ_\\mathrm{f,298}$ (kcal/mol)\", loc=\"left\")\n",
    "        ax.set_xscale(\"log\")\n",
    "        \n",
    "        ax = axs.flat[1]\n",
    "        label = \"rmse_HBI_Sint298 (cal/mol/K)\"\n",
    "        ax.plot(result_df.loc[result_df[\"run_dir\"]==run_dir, \"threshold\"], result_df.loc[result_df[\"run_dir\"]==run_dir, label], label=run_dirs[run_dir], linestyle=linestyles[counter], marker=markers[counter])\n",
    "        ax.set_title(\"(b) $\\Delta S^\\circ_\\mathrm{int,298}$ (cal/mol/K)\", loc=\"left\")\n",
    "        ax.set_xscale(\"log\")\n",
    "        \n",
    "        for i, (ax, T) in enumerate(zip(axs.flat[2:], Ts)):\n",
    "            label = f\"rmse_HBI_Cp{T} (cal/mol/K)\"\n",
    "            ax.plot(result_df.loc[result_df[\"run_dir\"]==run_dir, \"threshold\"], result_df.loc[result_df[\"run_dir\"]==run_dir, label], label=run_dirs[run_dir], linestyle=linestyles[counter], marker=markers[counter])\n",
    "            ax.set_title(f\"({string.ascii_letters[2:][i]}) \"+\"$\\Delta C_\\mathrm{p,{\" + str(T) + \"}}$ (cal/mol/K)\", loc=\"left\")\n",
    "            ax.set_xscale(\"log\")\n",
    "\n",
    "        counter += 1\n",
    "\n",
    "fig.supylabel(f\"RMSE\")\n",
    "fig.supxlabel(\"$\\lambda$\")\n",
    "\n",
    "fig.tight_layout()\n",
    "fig.savefig(\"../figures/rmse_vs_MP_threshold.pdf\", bbox_inches=\"tight\")"
   ]
  },
  {
   "cell_type": "code",
   "execution_count": null,
   "id": "ba83b026-b75d-46ce-b3f9-608418e04093",
   "metadata": {},
   "outputs": [],
   "source": [
    "run_dirs_to_plot = run_dirs.values()\n",
    "\n",
    "fig, axs = plt.subplots(nrows=3, ncols=3, sharex=True, figsize=(9, 7))\n",
    "\n",
    "counter = 0\n",
    "\n",
    "for run_dir in run_dirs:\n",
    "    if run_dirs[run_dir] in run_dirs_to_plot:\n",
    "        ax = axs.flat[0]\n",
    "        label = \"mae_HBI_H298 (kcal/mol)\"\n",
    "        ax.plot(result_df.loc[result_df[\"run_dir\"]==run_dir, \"threshold\"], result_df.loc[result_df[\"run_dir\"]==run_dir, label], label=run_dirs[run_dir], linestyle=linestyles[counter], marker=markers[counter])\n",
    "        ax.set_title(\"(a) $\\Delta\\Delta H^\\circ_\\mathrm{f,298}$ (kcal/mol)\", loc=\"left\")\n",
    "        ax.set_xscale(\"log\")\n",
    "        \n",
    "        ax = axs.flat[1]\n",
    "        label = \"mae_HBI_Sint298 (cal/mol/K)\"\n",
    "        ax.plot(result_df.loc[result_df[\"run_dir\"]==run_dir, \"threshold\"], result_df.loc[result_df[\"run_dir\"]==run_dir, label], label=run_dirs[run_dir], linestyle=linestyles[counter], marker=markers[counter])\n",
    "        ax.set_title(\"(b) $\\Delta S^\\circ_\\mathrm{int,298}$ (cal/mol/K)\", loc=\"left\")\n",
    "        ax.set_xscale(\"log\")\n",
    "        \n",
    "        for i, (ax, T) in enumerate(zip(axs.flat[2:], Ts)):\n",
    "            label = f\"mae_HBI_Cp{T} (cal/mol/K)\"\n",
    "            ax.plot(result_df.loc[result_df[\"run_dir\"]==run_dir, \"threshold\"], result_df.loc[result_df[\"run_dir\"]==run_dir, label], label=run_dirs[run_dir], linestyle=linestyles[counter], marker=markers[counter])\n",
    "            ax.set_title(f\"({string.ascii_letters[2:][i]}) \"+\"$\\Delta C_\\mathrm{p,{\" + str(T) + \"}}$ (cal/mol/K)\", loc=\"left\")\n",
    "            ax.set_xscale(\"log\")\n",
    "\n",
    "        counter += 1\n",
    "\n",
    "fig.supylabel(f\"MAE\")\n",
    "fig.supxlabel(\"$\\lambda$\")\n",
    "\n",
    "fig.tight_layout()\n",
    "fig.savefig(\"../figures/mae_vs_MP_threshold.pdf\", bbox_inches=\"tight\")"
   ]
  },
  {
   "cell_type": "markdown",
   "id": "6fc63865-ad03-418f-b678-5fecd8eaa0f0",
   "metadata": {},
   "source": [
    "# Plot tree size vs. thresholds"
   ]
  },
  {
   "cell_type": "code",
   "execution_count": null,
   "id": "ef13c72f-953b-4e8d-a468-56b6e5d5b851",
   "metadata": {},
   "outputs": [],
   "source": [
    "run_dirs_to_plot = run_dirs.values()\n",
    "\n",
    "plt.figure()\n",
    "plt.plot(result_df.loc[result_df[\"run_dir\"]==run_dir, \"threshold\"], result_df.loc[result_df[\"run_dir\"]==run_dir, \"tree_size\"], \"-o\")\n",
    "plt.xscale(\"log\")\n",
    "plt.yscale(\"log\")\n",
    "plt.xlabel(\"$\\lambda$\")\n",
    "plt.ylabel(\"Tree size\")\n",
    "plt.savefig(\"../figures/tree_size_vs_MP_thresholds.pdf\", bbox_inches=\"tight\")"
   ]
  },
  {
   "cell_type": "code",
   "execution_count": null,
   "id": "179b36a4-aad5-42d8-86e4-5a0deb6bc515",
   "metadata": {},
   "outputs": [],
   "source": []
  },
  {
   "cell_type": "code",
   "execution_count": null,
   "id": "01e49d4c-b999-441a-90fe-77b1625856a1",
   "metadata": {},
   "outputs": [],
   "source": []
  }
 ],
 "metadata": {
  "kernelspec": {
   "display_name": "Python [conda env:mambaforge-rmg_rdmc_env_20230623_v2]",
   "language": "python",
   "name": "conda-env-mambaforge-rmg_rdmc_env_20230623_v2-py"
  },
  "language_info": {
   "codemirror_mode": {
    "name": "ipython",
    "version": 3
   },
   "file_extension": ".py",
   "mimetype": "text/x-python",
   "name": "python",
   "nbconvert_exporter": "python",
   "pygments_lexer": "ipython3",
   "version": "3.7.16"
  }
 },
 "nbformat": 4,
 "nbformat_minor": 5
}
