{
 "cells": [
  {
   "cell_type": "markdown",
   "id": "4f184497-682c-417e-9c96-f7d127d84898",
   "metadata": {},
   "source": [
    "# Cluster resonance radicals"
   ]
  },
  {
   "cell_type": "code",
   "execution_count": 1,
   "id": "479dd2e5-a676-421b-b08f-d3bca8452502",
   "metadata": {},
   "outputs": [],
   "source": [
    "import string\n",
    "import json\n",
    "import pandas as pd\n",
    "from sklearn.model_selection import train_test_split\n",
    "from sklearn.decomposition import PCA\n",
    "from sklearn.cluster import KMeans\n",
    "from scipy.spatial.distance import cdist\n",
    "from tqdm import tqdm\n",
    "from rdkit.Chem import rdFingerprintGenerator\n",
    "import numpy as np\n",
    "import matplotlib.pyplot as plt\n",
    "import matplotlib\n",
    "matplotlib.rcParams['mathtext.fontset'] = 'stix'\n",
    "matplotlib.rcParams['font.family'] = 'STIXGeneral'\n",
    "\n",
    "from rdmc.mol import RDKitMol\n",
    "\n",
    "def make_rdkit_mol(smi):\n",
    "    return RDKitMol.FromSmiles(smi)._mol"
   ]
  },
  {
   "cell_type": "code",
   "execution_count": 2,
   "id": "a764e371-921b-4fee-b18b-adf9534a385b",
   "metadata": {},
   "outputs": [],
   "source": [
    "hbi_unc_df = pd.read_csv(\"../data/hbi_unc.csv\")"
   ]
  },
  {
   "cell_type": "code",
   "execution_count": 3,
   "id": "6da0fc8c-a258-48e4-b992-39eb4866818a",
   "metadata": {},
   "outputs": [],
   "source": [
    "cluster_df = hbi_unc_df[[\"resonance_radical_smiles\"]]"
   ]
  },
  {
   "cell_type": "code",
   "execution_count": 4,
   "id": "cb6e79a3-a2d7-4a3e-ad38-0f5f49206b95",
   "metadata": {},
   "outputs": [],
   "source": [
    "def get_fingerprint(smi, method=\"morgan\", count_based=False, **kwargs):\n",
    "    mol = make_rdkit_mol(smi)\n",
    "    if method == \"rdkit\":\n",
    "        fpgen = rdFingerprintGenerator.GetRDKitFPGenerator(**kwargs)\n",
    "    elif method == \"morgan\":\n",
    "        fpgen = rdFingerprintGenerator.GetMorganGenerator(**kwargs)\n",
    "    if count_based:\n",
    "        fps = fpgen.GetCountFingerprintAsNumPy(mol)\n",
    "    else:\n",
    "        fps =  fpgen.GetFingerprintAsNumPy(mol)\n",
    "    return fps"
   ]
  },
  {
   "cell_type": "code",
   "execution_count": 5,
   "id": "08e81798-5a65-452a-b212-68b531804c0b",
   "metadata": {},
   "outputs": [
    {
     "name": "stderr",
     "output_type": "stream",
     "text": [
      "100%|██████████| 2805/2805 [00:02<00:00, 963.05it/s] \n"
     ]
    }
   ],
   "source": [
    "out = [get_fingerprint(smi, method=\"morgan\", count_based=True) for smi in tqdm(hbi_unc_df[\"resonance_radical_smiles\"])]"
   ]
  },
  {
   "cell_type": "code",
   "execution_count": 6,
   "id": "1f463b80-b7c3-4576-82ea-5e47514b2ff2",
   "metadata": {},
   "outputs": [
    {
     "data": {
      "text/plain": [
       "array([[0, 0, 0, ..., 0, 0, 0],\n",
       "       [0, 0, 0, ..., 0, 0, 0],\n",
       "       [0, 0, 0, ..., 0, 0, 0],\n",
       "       ...,\n",
       "       [0, 0, 0, ..., 0, 0, 0],\n",
       "       [0, 0, 0, ..., 0, 0, 0],\n",
       "       [0, 0, 0, ..., 0, 0, 0]], dtype=uint32)"
      ]
     },
     "execution_count": 6,
     "metadata": {},
     "output_type": "execute_result"
    }
   ],
   "source": [
    "X = np.vstack(out)\n",
    "X"
   ]
  },
  {
   "cell_type": "code",
   "execution_count": 7,
   "id": "5df6505e-418b-4a3f-b274-a71d33b852cc",
   "metadata": {},
   "outputs": [
    {
     "data": {
      "text/plain": [
       "PCA(random_state=0)"
      ]
     },
     "execution_count": 7,
     "metadata": {},
     "output_type": "execute_result"
    }
   ],
   "source": [
    "pca = PCA(random_state=0)\n",
    "pca.fit(X)"
   ]
  },
  {
   "cell_type": "code",
   "execution_count": 8,
   "id": "0237f35d-8fe1-420d-825f-3b93e9c76ac4",
   "metadata": {},
   "outputs": [
    {
     "data": {
      "text/plain": [
       "(2805, 48)"
      ]
     },
     "execution_count": 8,
     "metadata": {},
     "output_type": "execute_result"
    }
   ],
   "source": [
    "pca_80 = PCA(0.8, random_state=0)\n",
    "X_pca = pca_80.fit_transform(X)\n",
    "X_pca.shape"
   ]
  },
  {
   "cell_type": "code",
   "execution_count": 9,
   "id": "194cc69a-cded-4f24-8c13-cc139ad41fc0",
   "metadata": {},
   "outputs": [
    {
     "name": "stderr",
     "output_type": "stream",
     "text": [
      "/home/gridsan/hwpang/mambaforge/envs/rmg_rdmc_env_20230623_v2/lib/python3.7/site-packages/ipykernel_launcher.py:2: SettingWithCopyWarning: \n",
      "A value is trying to be set on a copy of a slice from a DataFrame.\n",
      "Try using .loc[row_indexer,col_indexer] = value instead\n",
      "\n",
      "See the caveats in the documentation: https://pandas.pydata.org/pandas-docs/stable/user_guide/indexing.html#returning-a-view-versus-a-copy\n",
      "  \n"
     ]
    }
   ],
   "source": [
    "for ind in range(X_pca.shape[1]):\n",
    "    cluster_df[f\"PCA{ind}\"] = X_pca[:, ind]"
   ]
  },
  {
   "cell_type": "code",
   "execution_count": 10,
   "id": "6348d686-4fd6-4fba-bd4c-aad7e7a41de0",
   "metadata": {},
   "outputs": [
    {
     "name": "stderr",
     "output_type": "stream",
     "text": [
      "100%|██████████| 30/30 [01:08<00:00,  2.29s/it]\n"
     ]
    }
   ],
   "source": [
    "max_n_clusters = 30\n",
    "intertias = []\n",
    "sh_scores = []\n",
    "n_clusterss = range(1, max_n_clusters+1)\n",
    "for n_clusters in tqdm(n_clusterss):\n",
    "    kmeans = KMeans(n_clusters=n_clusters, random_state=0)\n",
    "    kmeans.fit(X_pca)\n",
    "    intertias.append(kmeans.inertia_)\n"
   ]
  },
  {
   "cell_type": "code",
   "execution_count": 11,
   "id": "3bb30b51-787f-4ace-a3d0-c7b0621630e8",
   "metadata": {},
   "outputs": [
    {
     "data": {
      "text/plain": [
       "Text(0, 0.5, 'Inertia change')"
      ]
     },
     "execution_count": 11,
     "metadata": {},
     "output_type": "execute_result"
    },
    {
     "data": {
      "image/png": "[encoded data removed]",
      "text/plain": [
       "<Figure size 640x480 with 1 Axes>"
      ]
     },
     "metadata": {},
     "output_type": "display_data"
    }
   ],
   "source": [
    "plt.figure()\n",
    "plt.plot(n_clusterss[1:], np.diff(np.array(intertias)), \"-o\")\n",
    "plt.xlabel(\"Number of clusters\")\n",
    "plt.ylabel(\"Inertia change\")"
   ]
  },
  {
   "cell_type": "code",
   "execution_count": 12,
   "id": "977a9971-da6d-484b-83d1-be3fed91e464",
   "metadata": {},
   "outputs": [
    {
     "data": {
      "text/plain": [
       "KMeans(n_clusters=15, random_state=0)"
      ]
     },
     "execution_count": 12,
     "metadata": {},
     "output_type": "execute_result"
    }
   ],
   "source": [
    "n_clusters = 15\n",
    "kmeans = KMeans(n_clusters=n_clusters, random_state=0)\n",
    "kmeans.fit(X_pca)"
   ]
  },
  {
   "cell_type": "code",
   "execution_count": 13,
   "id": "43922ef5-3c43-414b-b635-f5051acd0ba9",
   "metadata": {},
   "outputs": [
    {
     "name": "stderr",
     "output_type": "stream",
     "text": [
      "/home/gridsan/hwpang/mambaforge/envs/rmg_rdmc_env_20230623_v2/lib/python3.7/site-packages/ipykernel_launcher.py:1: SettingWithCopyWarning: \n",
      "A value is trying to be set on a copy of a slice from a DataFrame.\n",
      "Try using .loc[row_indexer,col_indexer] = value instead\n",
      "\n",
      "See the caveats in the documentation: https://pandas.pydata.org/pandas-docs/stable/user_guide/indexing.html#returning-a-view-versus-a-copy\n",
      "  \"\"\"Entry point for launching an IPython kernel.\n"
     ]
    },
    {
     "data": {
      "text/html": [
       "<div>\n",
       "<style scoped>\n",
       "    .dataframe tbody tr th:only-of-type {\n",
       "        vertical-align: middle;\n",
       "    }\n",
       "\n",
       "    .dataframe tbody tr th {\n",
       "        vertical-align: top;\n",
       "    }\n",
       "\n",
       "    .dataframe thead th {\n",
       "        text-align: right;\n",
       "    }\n",
       "</style>\n",
       "<table border=\"1\" class=\"dataframe\">\n",
       "  <thead>\n",
       "    <tr style=\"text-align: right;\">\n",
       "      <th></th>\n",
       "      <th>resonance_radical_smiles</th>\n",
       "      <th>PCA0</th>\n",
       "      <th>PCA1</th>\n",
       "      <th>PCA2</th>\n",
       "      <th>PCA3</th>\n",
       "      <th>PCA4</th>\n",
       "      <th>PCA5</th>\n",
       "      <th>PCA6</th>\n",
       "      <th>PCA7</th>\n",
       "      <th>PCA8</th>\n",
       "      <th>...</th>\n",
       "      <th>PCA39</th>\n",
       "      <th>PCA40</th>\n",
       "      <th>PCA41</th>\n",
       "      <th>PCA42</th>\n",
       "      <th>PCA43</th>\n",
       "      <th>PCA44</th>\n",
       "      <th>PCA45</th>\n",
       "      <th>PCA46</th>\n",
       "      <th>PCA47</th>\n",
       "      <th>cluster</th>\n",
       "    </tr>\n",
       "  </thead>\n",
       "  <tbody>\n",
       "    <tr>\n",
       "      <th>0</th>\n",
       "      <td>[O]C(=O)OC(O)(O)O</td>\n",
       "      <td>-6.089066</td>\n",
       "      <td>-1.615488</td>\n",
       "      <td>0.063057</td>\n",
       "      <td>-1.231476</td>\n",
       "      <td>0.281208</td>\n",
       "      <td>-1.520858</td>\n",
       "      <td>3.083714</td>\n",
       "      <td>0.930232</td>\n",
       "      <td>-0.173450</td>\n",
       "      <td>...</td>\n",
       "      <td>-0.002787</td>\n",
       "      <td>-0.461879</td>\n",
       "      <td>-0.776410</td>\n",
       "      <td>-0.698559</td>\n",
       "      <td>-0.348100</td>\n",
       "      <td>-0.699146</td>\n",
       "      <td>0.132646</td>\n",
       "      <td>0.136383</td>\n",
       "      <td>-0.104345</td>\n",
       "      <td>12</td>\n",
       "    </tr>\n",
       "    <tr>\n",
       "      <th>1</th>\n",
       "      <td>[O]C(O)(O)OC(=O)O</td>\n",
       "      <td>-6.088108</td>\n",
       "      <td>-1.611775</td>\n",
       "      <td>0.059942</td>\n",
       "      <td>-1.225907</td>\n",
       "      <td>0.237374</td>\n",
       "      <td>-1.506628</td>\n",
       "      <td>3.167105</td>\n",
       "      <td>0.978379</td>\n",
       "      <td>-0.205834</td>\n",
       "      <td>...</td>\n",
       "      <td>-0.450024</td>\n",
       "      <td>-0.064013</td>\n",
       "      <td>-0.071186</td>\n",
       "      <td>-0.023744</td>\n",
       "      <td>0.143131</td>\n",
       "      <td>-0.277304</td>\n",
       "      <td>0.064441</td>\n",
       "      <td>0.293169</td>\n",
       "      <td>-0.096988</td>\n",
       "      <td>12</td>\n",
       "    </tr>\n",
       "    <tr>\n",
       "      <th>2</th>\n",
       "      <td>O=C(O)O[C](O)O</td>\n",
       "      <td>-6.080124</td>\n",
       "      <td>-1.662970</td>\n",
       "      <td>0.205795</td>\n",
       "      <td>-1.113389</td>\n",
       "      <td>0.266600</td>\n",
       "      <td>-1.892734</td>\n",
       "      <td>3.791020</td>\n",
       "      <td>1.889091</td>\n",
       "      <td>-0.174881</td>\n",
       "      <td>...</td>\n",
       "      <td>-0.559364</td>\n",
       "      <td>0.388391</td>\n",
       "      <td>0.337067</td>\n",
       "      <td>0.068951</td>\n",
       "      <td>-0.167025</td>\n",
       "      <td>0.362385</td>\n",
       "      <td>0.273376</td>\n",
       "      <td>0.165307</td>\n",
       "      <td>0.082916</td>\n",
       "      <td>12</td>\n",
       "    </tr>\n",
       "    <tr>\n",
       "      <th>3</th>\n",
       "      <td>CC(=O)OC(OO)C(=O)C(O)O[O]</td>\n",
       "      <td>-0.925067</td>\n",
       "      <td>-2.615810</td>\n",
       "      <td>-0.112663</td>\n",
       "      <td>-1.771364</td>\n",
       "      <td>0.430409</td>\n",
       "      <td>-1.860495</td>\n",
       "      <td>4.407581</td>\n",
       "      <td>-2.437313</td>\n",
       "      <td>1.013533</td>\n",
       "      <td>...</td>\n",
       "      <td>0.168978</td>\n",
       "      <td>0.007001</td>\n",
       "      <td>-0.104343</td>\n",
       "      <td>-0.136065</td>\n",
       "      <td>0.424127</td>\n",
       "      <td>0.438989</td>\n",
       "      <td>0.235562</td>\n",
       "      <td>0.148336</td>\n",
       "      <td>-0.544083</td>\n",
       "      <td>7</td>\n",
       "    </tr>\n",
       "    <tr>\n",
       "      <th>4</th>\n",
       "      <td>O=[C]OC(O)(O)O</td>\n",
       "      <td>-6.045439</td>\n",
       "      <td>-1.321836</td>\n",
       "      <td>0.151010</td>\n",
       "      <td>-0.340648</td>\n",
       "      <td>0.091584</td>\n",
       "      <td>-1.534223</td>\n",
       "      <td>1.899966</td>\n",
       "      <td>1.225235</td>\n",
       "      <td>0.469913</td>\n",
       "      <td>...</td>\n",
       "      <td>-0.085046</td>\n",
       "      <td>-0.289804</td>\n",
       "      <td>-0.572373</td>\n",
       "      <td>-0.457304</td>\n",
       "      <td>0.010838</td>\n",
       "      <td>-0.730783</td>\n",
       "      <td>-0.266037</td>\n",
       "      <td>0.090660</td>\n",
       "      <td>0.015961</td>\n",
       "      <td>12</td>\n",
       "    </tr>\n",
       "    <tr>\n",
       "      <th>...</th>\n",
       "      <td>...</td>\n",
       "      <td>...</td>\n",
       "      <td>...</td>\n",
       "      <td>...</td>\n",
       "      <td>...</td>\n",
       "      <td>...</td>\n",
       "      <td>...</td>\n",
       "      <td>...</td>\n",
       "      <td>...</td>\n",
       "      <td>...</td>\n",
       "      <td>...</td>\n",
       "      <td>...</td>\n",
       "      <td>...</td>\n",
       "      <td>...</td>\n",
       "      <td>...</td>\n",
       "      <td>...</td>\n",
       "      <td>...</td>\n",
       "      <td>...</td>\n",
       "      <td>...</td>\n",
       "      <td>...</td>\n",
       "      <td>...</td>\n",
       "    </tr>\n",
       "    <tr>\n",
       "      <th>2800</th>\n",
       "      <td>[C]1=CC=C1</td>\n",
       "      <td>-5.753054</td>\n",
       "      <td>1.452846</td>\n",
       "      <td>-1.611642</td>\n",
       "      <td>-0.440508</td>\n",
       "      <td>3.292327</td>\n",
       "      <td>-0.755351</td>\n",
       "      <td>-1.512031</td>\n",
       "      <td>0.507880</td>\n",
       "      <td>-0.135317</td>\n",
       "      <td>...</td>\n",
       "      <td>0.011328</td>\n",
       "      <td>0.033515</td>\n",
       "      <td>-0.113085</td>\n",
       "      <td>0.092578</td>\n",
       "      <td>-0.034338</td>\n",
       "      <td>-0.060829</td>\n",
       "      <td>0.054563</td>\n",
       "      <td>0.028241</td>\n",
       "      <td>0.057585</td>\n",
       "      <td>12</td>\n",
       "    </tr>\n",
       "    <tr>\n",
       "      <th>2801</th>\n",
       "      <td>C=C=C1C=[C]C1</td>\n",
       "      <td>-4.105967</td>\n",
       "      <td>1.894477</td>\n",
       "      <td>-0.964455</td>\n",
       "      <td>1.181190</td>\n",
       "      <td>-0.585547</td>\n",
       "      <td>-0.696185</td>\n",
       "      <td>-1.258714</td>\n",
       "      <td>0.089087</td>\n",
       "      <td>-0.046122</td>\n",
       "      <td>...</td>\n",
       "      <td>0.026138</td>\n",
       "      <td>0.072616</td>\n",
       "      <td>-0.200742</td>\n",
       "      <td>0.014354</td>\n",
       "      <td>0.035880</td>\n",
       "      <td>0.120649</td>\n",
       "      <td>-0.010778</td>\n",
       "      <td>-0.016997</td>\n",
       "      <td>0.006853</td>\n",
       "      <td>1</td>\n",
       "    </tr>\n",
       "    <tr>\n",
       "      <th>2802</th>\n",
       "      <td>[CH2]C1=CC#CC1</td>\n",
       "      <td>-4.086200</td>\n",
       "      <td>1.945431</td>\n",
       "      <td>-0.980193</td>\n",
       "      <td>1.142322</td>\n",
       "      <td>-0.601157</td>\n",
       "      <td>-0.713332</td>\n",
       "      <td>-1.155400</td>\n",
       "      <td>0.085499</td>\n",
       "      <td>-0.057436</td>\n",
       "      <td>...</td>\n",
       "      <td>-0.097097</td>\n",
       "      <td>-0.001668</td>\n",
       "      <td>-0.160080</td>\n",
       "      <td>-0.340230</td>\n",
       "      <td>0.116575</td>\n",
       "      <td>0.000408</td>\n",
       "      <td>-0.044851</td>\n",
       "      <td>0.057575</td>\n",
       "      <td>0.130446</td>\n",
       "      <td>1</td>\n",
       "    </tr>\n",
       "    <tr>\n",
       "      <th>2803</th>\n",
       "      <td>C=C1[CH]C#CC1</td>\n",
       "      <td>-4.095155</td>\n",
       "      <td>1.923400</td>\n",
       "      <td>-1.004648</td>\n",
       "      <td>1.059256</td>\n",
       "      <td>-0.666607</td>\n",
       "      <td>-0.746054</td>\n",
       "      <td>-1.171943</td>\n",
       "      <td>-0.130824</td>\n",
       "      <td>-0.053399</td>\n",
       "      <td>...</td>\n",
       "      <td>0.209082</td>\n",
       "      <td>-0.154044</td>\n",
       "      <td>-0.249259</td>\n",
       "      <td>0.215381</td>\n",
       "      <td>-0.241176</td>\n",
       "      <td>0.023327</td>\n",
       "      <td>-0.094942</td>\n",
       "      <td>0.075466</td>\n",
       "      <td>-0.260996</td>\n",
       "      <td>1</td>\n",
       "    </tr>\n",
       "    <tr>\n",
       "      <th>2804</th>\n",
       "      <td>C=C1C=C=[C]C1</td>\n",
       "      <td>-4.073605</td>\n",
       "      <td>1.969585</td>\n",
       "      <td>-0.963512</td>\n",
       "      <td>1.025309</td>\n",
       "      <td>-0.542056</td>\n",
       "      <td>-0.752602</td>\n",
       "      <td>-1.114566</td>\n",
       "      <td>-0.068284</td>\n",
       "      <td>0.024610</td>\n",
       "      <td>...</td>\n",
       "      <td>-0.013672</td>\n",
       "      <td>-0.273979</td>\n",
       "      <td>-0.289461</td>\n",
       "      <td>0.252925</td>\n",
       "      <td>-0.425837</td>\n",
       "      <td>0.078417</td>\n",
       "      <td>0.292742</td>\n",
       "      <td>0.182513</td>\n",
       "      <td>-0.538361</td>\n",
       "      <td>1</td>\n",
       "    </tr>\n",
       "  </tbody>\n",
       "</table>\n",
       "<p>2805 rows × 50 columns</p>\n",
       "</div>"
      ],
      "text/plain": [
       "       resonance_radical_smiles      PCA0      PCA1      PCA2      PCA3  \\\n",
       "0             [O]C(=O)OC(O)(O)O -6.089066 -1.615488  0.063057 -1.231476   \n",
       "1             [O]C(O)(O)OC(=O)O -6.088108 -1.611775  0.059942 -1.225907   \n",
       "2                O=C(O)O[C](O)O -6.080124 -1.662970  0.205795 -1.113389   \n",
       "3     CC(=O)OC(OO)C(=O)C(O)O[O] -0.925067 -2.615810 -0.112663 -1.771364   \n",
       "4                O=[C]OC(O)(O)O -6.045439 -1.321836  0.151010 -0.340648   \n",
       "...                         ...       ...       ...       ...       ...   \n",
       "2800                 [C]1=CC=C1 -5.753054  1.452846 -1.611642 -0.440508   \n",
       "2801              C=C=C1C=[C]C1 -4.105967  1.894477 -0.964455  1.181190   \n",
       "2802             [CH2]C1=CC#CC1 -4.086200  1.945431 -0.980193  1.142322   \n",
       "2803              C=C1[CH]C#CC1 -4.095155  1.923400 -1.004648  1.059256   \n",
       "2804              C=C1C=C=[C]C1 -4.073605  1.969585 -0.963512  1.025309   \n",
       "\n",
       "          PCA4      PCA5      PCA6      PCA7      PCA8  ...     PCA39  \\\n",
       "0     0.281208 -1.520858  3.083714  0.930232 -0.173450  ... -0.002787   \n",
       "1     0.237374 -1.506628  3.167105  0.978379 -0.205834  ... -0.450024   \n",
       "2     0.266600 -1.892734  3.791020  1.889091 -0.174881  ... -0.559364   \n",
       "3     0.430409 -1.860495  4.407581 -2.437313  1.013533  ...  0.168978   \n",
       "4     0.091584 -1.534223  1.899966  1.225235  0.469913  ... -0.085046   \n",
       "...        ...       ...       ...       ...       ...  ...       ...   \n",
       "2800  3.292327 -0.755351 -1.512031  0.507880 -0.135317  ...  0.011328   \n",
       "2801 -0.585547 -0.696185 -1.258714  0.089087 -0.046122  ...  0.026138   \n",
       "2802 -0.601157 -0.713332 -1.155400  0.085499 -0.057436  ... -0.097097   \n",
       "2803 -0.666607 -0.746054 -1.171943 -0.130824 -0.053399  ...  0.209082   \n",
       "2804 -0.542056 -0.752602 -1.114566 -0.068284  0.024610  ... -0.013672   \n",
       "\n",
       "         PCA40     PCA41     PCA42     PCA43     PCA44     PCA45     PCA46  \\\n",
       "0    -0.461879 -0.776410 -0.698559 -0.348100 -0.699146  0.132646  0.136383   \n",
       "1    -0.064013 -0.071186 -0.023744  0.143131 -0.277304  0.064441  0.293169   \n",
       "2     0.388391  0.337067  0.068951 -0.167025  0.362385  0.273376  0.165307   \n",
       "3     0.007001 -0.104343 -0.136065  0.424127  0.438989  0.235562  0.148336   \n",
       "4    -0.289804 -0.572373 -0.457304  0.010838 -0.730783 -0.266037  0.090660   \n",
       "...        ...       ...       ...       ...       ...       ...       ...   \n",
       "2800  0.033515 -0.113085  0.092578 -0.034338 -0.060829  0.054563  0.028241   \n",
       "2801  0.072616 -0.200742  0.014354  0.035880  0.120649 -0.010778 -0.016997   \n",
       "2802 -0.001668 -0.160080 -0.340230  0.116575  0.000408 -0.044851  0.057575   \n",
       "2803 -0.154044 -0.249259  0.215381 -0.241176  0.023327 -0.094942  0.075466   \n",
       "2804 -0.273979 -0.289461  0.252925 -0.425837  0.078417  0.292742  0.182513   \n",
       "\n",
       "         PCA47  cluster  \n",
       "0    -0.104345       12  \n",
       "1    -0.096988       12  \n",
       "2     0.082916       12  \n",
       "3    -0.544083        7  \n",
       "4     0.015961       12  \n",
       "...        ...      ...  \n",
       "2800  0.057585       12  \n",
       "2801  0.006853        1  \n",
       "2802  0.130446        1  \n",
       "2803 -0.260996        1  \n",
       "2804 -0.538361        1  \n",
       "\n",
       "[2805 rows x 50 columns]"
      ]
     },
     "execution_count": 13,
     "metadata": {},
     "output_type": "execute_result"
    }
   ],
   "source": [
    "cluster_df[\"cluster\"] = kmeans.labels_\n",
    "cluster_df"
   ]
  },
  {
   "cell_type": "code",
   "execution_count": 14,
   "id": "57dc85bb-0e92-46b2-b848-b0898574c531",
   "metadata": {},
   "outputs": [],
   "source": [
    "cluster_df.to_csv(\"../data/resonance_radical_cluster.csv\", index=False)"
   ]
  },
  {
   "cell_type": "code",
   "execution_count": 15,
   "id": "54eea04b-a556-4e0e-b62f-bd3e9725fe0d",
   "metadata": {},
   "outputs": [],
   "source": [
    "cluster_df = pd.read_csv(\"../data/resonance_radical_cluster.csv\")"
   ]
  },
  {
   "cell_type": "code",
   "execution_count": 16,
   "id": "f0afbd91-e5cb-4869-8b65-9d7956c59df6",
   "metadata": {},
   "outputs": [
    {
     "data": {
      "text/plain": [
       "{2: 433,\n",
       " 7: 424,\n",
       " 12: 330,\n",
       " 1: 238,\n",
       " 4: 227,\n",
       " 0: 188,\n",
       " 9: 176,\n",
       " 11: 170,\n",
       " 6: 164,\n",
       " 13: 141,\n",
       " 3: 83,\n",
       " 10: 82,\n",
       " 14: 82,\n",
       " 8: 39,\n",
       " 5: 28}"
      ]
     },
     "execution_count": 16,
     "metadata": {},
     "output_type": "execute_result"
    }
   ],
   "source": [
    "cluster_counts = cluster_df[\"cluster\"].value_counts().to_dict()\n",
    "cluster_counts"
   ]
  },
  {
   "cell_type": "code",
   "execution_count": 17,
   "id": "b71a9f10-3cf6-4228-b06b-2bad54d3d495",
   "metadata": {},
   "outputs": [
    {
     "data": {
      "image/png": "[encoded data removed]",
      "text/plain": [
       "<Figure size 800x650 with 4 Axes>"
      ]
     },
     "metadata": {},
     "output_type": "display_data"
    }
   ],
   "source": [
    "fig, axs = plt.subplots(nrows=2, ncols=2, figsize=(8, 6.5))\n",
    "\n",
    "ax_i = 0\n",
    "ax = axs.flat[ax_i]\n",
    "var_percs = pca.explained_variance_ratio_ * 100\n",
    "var_perc_cumsum = np.cumsum(var_percs)\n",
    "xs = range(len(var_perc_cumsum))\n",
    "ax.plot(xs, var_perc_cumsum)\n",
    "ax.plot([xs[0], xs[-1]], [80, 80], \"k--\")\n",
    "ax.set_xlabel(\"Principal components\")\n",
    "ax.set_ylabel(\"Variance (%)\")\n",
    "ax.set_title(f\"({string.ascii_lowercase[ax_i]})\", loc=\"left\")\n",
    "\n",
    "ax_i = 1\n",
    "ax = axs.flat[ax_i]\n",
    "ax.plot(n_clusterss, np.array(intertias), \"-o\")\n",
    "ax.set_xlabel(\"Number of clusters\")\n",
    "ax.set_ylabel(\"Inertia\")\n",
    "ax.set_title(f\"({string.ascii_lowercase[ax_i]})\", loc=\"left\")\n",
    "\n",
    "ax_i = 2\n",
    "ax = axs.flat[ax_i]\n",
    "cmap = plt.get_cmap(\"tab20\")\n",
    "xs = range(n_clusters)\n",
    "for i, x in enumerate(xs):\n",
    "    ax.bar([x], [cluster_counts[x]], color=cmap(i))\n",
    "ax.set_xlabel(\"Cluster\")\n",
    "ax.set_ylabel(\"Counts\")\n",
    "ax.set_xticks(xs)\n",
    "ax.set_title(f\"({string.ascii_lowercase[ax_i]})\", loc=\"left\")\n",
    "\n",
    "ax_i = 3\n",
    "ax = axs.flat[ax_i]\n",
    "for i in range(n_clusters):\n",
    "    cluster_inds = cluster_df[\"cluster\"] == i\n",
    "    ax.scatter(X_pca[cluster_inds, 0], X_pca[cluster_inds, 1], label=i, color=cmap(i))\n",
    "ax.set_xlabel(\"PCA 1\")\n",
    "ax.set_ylabel(\"PCA 2\")\n",
    "ax.set_title(f\"({string.ascii_lowercase[ax_i]})\", loc=\"left\")\n",
    "\n",
    "fig.align_labels()\n",
    "fig.tight_layout()\n",
    "fig.savefig(f\"../figures/pca_kmeans_clustering.pdf\")"
   ]
  },
  {
   "cell_type": "code",
   "execution_count": null,
   "id": "404f5d33-77a6-43b4-b17c-f54ad4676971",
   "metadata": {},
   "outputs": [],
   "source": []
  }
 ],
 "metadata": {
  "kernelspec": {
   "display_name": "Python [conda env:mambaforge-rmg_rdmc_env_20230623_v2]",
   "language": "python",
   "name": "conda-env-mambaforge-rmg_rdmc_env_20230623_v2-py"
  },
  "language_info": {
   "codemirror_mode": {
    "name": "ipython",
    "version": 3
   },
   "file_extension": ".py",
   "mimetype": "text/x-python",
   "name": "python",
   "nbconvert_exporter": "python",
   "pygments_lexer": "ipython3",
   "version": "3.7.16"
  }
 },
 "nbformat": 4,
 "nbformat_minor": 5
}
