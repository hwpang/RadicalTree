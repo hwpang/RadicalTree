{
 "cells": [
  {
   "cell_type": "markdown",
   "id": "4f184497-682c-417e-9c96-f7d127d84898",
   "metadata": {},
   "source": [
    "# Cluster resonance radicals"
   ]
  },
  {
   "cell_type": "code",
   "execution_count": 35,
   "id": "479dd2e5-a676-421b-b08f-d3bca8452502",
   "metadata": {},
   "outputs": [],
   "source": [
    "import json\n",
    "import pandas as pd\n",
    "from sklearn.model_selection import train_test_split\n",
    "from sklearn.decomposition import PCA\n",
    "from sklearn.cluster import KMeans\n",
    "from scipy.spatial.distance import cdist\n",
    "from tqdm import tqdm\n",
    "from rdkit.Chem import rdFingerprintGenerator\n",
    "import numpy as np\n",
    "import matplotlib.pyplot as plt\n",
    "import matplotlib\n",
    "matplotlib.rcParams['mathtext.fontset'] = 'stix'\n",
    "matplotlib.rcParams['font.family'] = 'STIXGeneral'\n",
    "\n",
    "from rdmc.mol import RDKitMol\n",
    "\n",
    "def make_rdkit_mol(smi):\n",
    "    return RDKitMol.FromSmiles(smi)._mol"
   ]
  },
  {
   "cell_type": "code",
   "execution_count": 4,
   "id": "a764e371-921b-4fee-b18b-adf9534a385b",
   "metadata": {},
   "outputs": [],
   "source": [
    "hbi_unc_df = pd.read_csv(\"../data/hbi_unc.csv\")"
   ]
  },
  {
   "cell_type": "code",
   "execution_count": 26,
   "id": "6da0fc8c-a258-48e4-b992-39eb4866818a",
   "metadata": {},
   "outputs": [],
   "source": [
    "cluster_df = hbi_unc_df[[\"resonance_radical_smiles\"]]"
   ]
  },
  {
   "cell_type": "code",
   "execution_count": 2,
   "id": "cb6e79a3-a2d7-4a3e-ad38-0f5f49206b95",
   "metadata": {},
   "outputs": [],
   "source": [
    "def get_fingerprint(smi, method=\"morgan\", count_based=False, **kwargs):\n",
    "    mol = make_rdkit_mol(smi)\n",
    "    if method == \"rdkit\":\n",
    "        fpgen = rdFingerprintGenerator.GetRDKitFPGenerator(**kwargs)\n",
    "    elif method == \"morgan\":\n",
    "        fpgen = rdFingerprintGenerator.GetMorganGenerator(**kwargs)\n",
    "    if count_based:\n",
    "        fps = fpgen.GetCountFingerprintAsNumPy(mol)\n",
    "    else:\n",
    "        fps =  fpgen.GetFingerprintAsNumPy(mol)\n",
    "    return fps"
   ]
  },
  {
   "cell_type": "code",
   "execution_count": 10,
   "id": "08e81798-5a65-452a-b212-68b531804c0b",
   "metadata": {},
   "outputs": [
    {
     "name": "stderr",
     "output_type": "stream",
     "text": [
      "\n",
      "  0%|          | 0/2809 [00:00<?, ?it/s]\u001b[A\n",
      "  1%|          | 26/2809 [00:00<00:10, 258.64it/s]\u001b[A\n",
      "  4%|▎         | 100/2809 [00:00<00:05, 540.31it/s]\u001b[A\n",
      "  7%|▋         | 202/2809 [00:00<00:03, 757.29it/s]\u001b[A\n",
      " 12%|█▏        | 331/2809 [00:00<00:02, 966.50it/s]\u001b[A\n",
      " 17%|█▋        | 465/2809 [00:00<00:02, 1099.51it/s]\u001b[A\n",
      " 21%|██▏       | 599/2809 [00:00<00:01, 1180.49it/s]\u001b[A\n",
      " 26%|██▌       | 734/2809 [00:00<00:01, 1233.40it/s]\u001b[A\n",
      " 31%|███       | 870/2809 [00:00<00:01, 1273.28it/s]\u001b[A\n",
      " 36%|███▌      | 1006/2809 [00:00<00:01, 1299.73it/s]\u001b[A\n",
      " 41%|████      | 1143/2809 [00:01<00:01, 1318.81it/s]\u001b[A\n",
      " 46%|████▌     | 1279/2809 [00:01<00:01, 1328.59it/s]\u001b[A\n",
      " 50%|█████     | 1413/2809 [00:01<00:01, 1329.92it/s]\u001b[A\n",
      " 55%|█████▌    | 1548/2809 [00:01<00:00, 1333.58it/s]\u001b[A\n",
      " 60%|█████▉    | 1683/2809 [00:01<00:00, 1337.65it/s]\u001b[A\n",
      " 65%|██████▍   | 1818/2809 [00:01<00:00, 1339.05it/s]\u001b[A\n",
      " 69%|██████▉   | 1952/2809 [00:01<00:00, 1333.60it/s]\u001b[A\n",
      " 74%|███████▍  | 2086/2809 [00:01<00:00, 1303.46it/s]\u001b[A\n",
      " 79%|███████▉  | 2217/2809 [00:01<00:00, 1287.52it/s]\u001b[A\n",
      " 84%|████████▎ | 2349/2809 [00:01<00:00, 1295.30it/s]\u001b[A\n",
      " 88%|████████▊ | 2481/2809 [00:02<00:00, 1301.02it/s]\u001b[A\n",
      " 93%|█████████▎| 2614/2809 [00:02<00:00, 1308.85it/s]\u001b[A\n",
      "100%|██████████| 2809/2809 [00:02<00:00, 1238.66it/s]\u001b[A\n"
     ]
    }
   ],
   "source": [
    "out = [get_fingerprint(smi, method=\"morgan\", count_based=True) for smi in tqdm(hbi_unc_df[\"resonance_radical_smiles\"])]"
   ]
  },
  {
   "cell_type": "code",
   "execution_count": 13,
   "id": "1f463b80-b7c3-4576-82ea-5e47514b2ff2",
   "metadata": {},
   "outputs": [
    {
     "data": {
      "text/plain": [
       "array([[0, 0, 0, ..., 0, 0, 0],\n",
       "       [0, 0, 0, ..., 0, 0, 0],\n",
       "       [0, 0, 0, ..., 0, 0, 0],\n",
       "       ...,\n",
       "       [0, 0, 0, ..., 0, 0, 0],\n",
       "       [0, 0, 0, ..., 0, 0, 0],\n",
       "       [0, 0, 0, ..., 0, 0, 0]], dtype=uint32)"
      ]
     },
     "execution_count": 13,
     "metadata": {},
     "output_type": "execute_result"
    }
   ],
   "source": [
    "X = np.vstack(out)\n",
    "X"
   ]
  },
  {
   "cell_type": "code",
   "execution_count": 16,
   "id": "5df6505e-418b-4a3f-b274-a71d33b852cc",
   "metadata": {},
   "outputs": [
    {
     "data": {
      "text/plain": [
       "PCA(random_state=0)"
      ]
     },
     "execution_count": 16,
     "metadata": {},
     "output_type": "execute_result"
    }
   ],
   "source": [
    "pca = PCA(random_state=0)\n",
    "pca.fit(X)"
   ]
  },
  {
   "cell_type": "code",
   "execution_count": 19,
   "id": "a949e3c7-a6dd-4135-87d0-a396544edd3d",
   "metadata": {},
   "outputs": [
    {
     "name": "stderr",
     "output_type": "stream",
     "text": [
      "  0%|          | 0/2809 [02:28<?, ?it/s]\n"
     ]
    },
    {
     "data": {
      "text/plain": [
       "Text(0, 0.5, 'Variance (%)')"
      ]
     },
     "execution_count": 19,
     "metadata": {},
     "output_type": "execute_result"
    },
    {
     "data": {
      "image/png": "[encoded data removed]",
      "text/plain": [
       "<Figure size 640x480 with 1 Axes>"
      ]
     },
     "metadata": {},
     "output_type": "display_data"
    }
   ],
   "source": [
    "plt.figure()\n",
    "var_percs = pca.explained_variance_ratio_ * 100\n",
    "var_perc_cumsum = np.cumsum(var_percs)\n",
    "xs = range(len(var_perc_cumsum))\n",
    "plt.plot(xs, var_perc_cumsum)\n",
    "plt.plot([xs[0], xs[-1]], [80, 80], \"--\")\n",
    "plt.xlabel(\"Principal components\")\n",
    "plt.ylabel(\"Variance (%)\")\n",
    "# plt.savefig(\"Figures/variance_principal_components.pdf\")"
   ]
  },
  {
   "cell_type": "code",
   "execution_count": 20,
   "id": "0237f35d-8fe1-420d-825f-3b93e9c76ac4",
   "metadata": {},
   "outputs": [
    {
     "data": {
      "text/plain": [
       "(2809, 48)"
      ]
     },
     "execution_count": 20,
     "metadata": {},
     "output_type": "execute_result"
    }
   ],
   "source": [
    "pca_80 = PCA(0.8, random_state=0)\n",
    "X_pca = pca_80.fit_transform(X)\n",
    "X_pca.shape"
   ]
  },
  {
   "cell_type": "code",
   "execution_count": 27,
   "id": "194cc69a-cded-4f24-8c13-cc139ad41fc0",
   "metadata": {},
   "outputs": [
    {
     "name": "stderr",
     "output_type": "stream",
     "text": [
      "/home/gridsan/hwpang/mambaforge/envs/rmg_rdmc_env_20230623_v2/lib/python3.7/site-packages/ipykernel_launcher.py:2: SettingWithCopyWarning: \n",
      "A value is trying to be set on a copy of a slice from a DataFrame.\n",
      "Try using .loc[row_indexer,col_indexer] = value instead\n",
      "\n",
      "See the caveats in the documentation: https://pandas.pydata.org/pandas-docs/stable/user_guide/indexing.html#returning-a-view-versus-a-copy\n",
      "  \n"
     ]
    }
   ],
   "source": [
    "for ind in range(X_pca.shape[1]):\n",
    "    cluster_df[f\"PCA{ind}\"] = X_pca[:, ind]"
   ]
  },
  {
   "cell_type": "code",
   "execution_count": 21,
   "id": "6348d686-4fd6-4fba-bd4c-aad7e7a41de0",
   "metadata": {},
   "outputs": [
    {
     "name": "stderr",
     "output_type": "stream",
     "text": [
      "100%|██████████| 30/30 [01:03<00:00,  2.12s/it]\n"
     ]
    }
   ],
   "source": [
    "max_n_clusters = 30\n",
    "intertias = []\n",
    "sh_scores = []\n",
    "n_clusterss = range(1, max_n_clusters+1)\n",
    "for n_clusters in tqdm(n_clusterss):\n",
    "    kmeans = KMeans(n_clusters=n_clusters, random_state=0)\n",
    "    kmeans.fit(X_pca)\n",
    "    intertias.append(kmeans.inertia_)\n"
   ]
  },
  {
   "cell_type": "code",
   "execution_count": 22,
   "id": "be0f10ae-3f04-4902-a2a3-4d36300ad551",
   "metadata": {},
   "outputs": [
    {
     "data": {
      "text/plain": [
       "Text(0, 0.5, 'Inertia')"
      ]
     },
     "execution_count": 22,
     "metadata": {},
     "output_type": "execute_result"
    },
    {
     "data": {
      "image/png": "[encoded data removed]",
      "text/plain": [
       "<Figure size 640x480 with 1 Axes>"
      ]
     },
     "metadata": {},
     "output_type": "display_data"
    }
   ],
   "source": [
    "plt.figure()\n",
    "plt.plot(n_clusterss, np.array(intertias), \"-o\")\n",
    "plt.xlabel(\"Number of clusters\")\n",
    "plt.ylabel(\"Inertia\")\n",
    "# plt.savefig(f\"Figures/{save_name}_kmeans_elbow.pdf\")"
   ]
  },
  {
   "cell_type": "code",
   "execution_count": 24,
   "id": "3bb30b51-787f-4ace-a3d0-c7b0621630e8",
   "metadata": {},
   "outputs": [
    {
     "data": {
      "text/plain": [
       "Text(0, 0.5, 'Inertia change')"
      ]
     },
     "execution_count": 24,
     "metadata": {},
     "output_type": "execute_result"
    },
    {
     "data": {
      "image/png": "[encoded data removed]",
      "text/plain": [
       "<Figure size 640x480 with 1 Axes>"
      ]
     },
     "metadata": {},
     "output_type": "display_data"
    }
   ],
   "source": [
    "plt.figure()\n",
    "plt.plot(n_clusterss[1:], np.diff(np.array(intertias)), \"-o\")\n",
    "plt.xlabel(\"Number of clusters\")\n",
    "plt.ylabel(\"Inertia change\")"
   ]
  },
  {
   "cell_type": "code",
   "execution_count": 25,
   "id": "977a9971-da6d-484b-83d1-be3fed91e464",
   "metadata": {},
   "outputs": [
    {
     "data": {
      "text/plain": [
       "KMeans(n_clusters=15, random_state=0)"
      ]
     },
     "execution_count": 25,
     "metadata": {},
     "output_type": "execute_result"
    }
   ],
   "source": [
    "n_clusters = 15\n",
    "kmeans = KMeans(n_clusters=n_clusters, random_state=0)\n",
    "kmeans.fit(X_pca)"
   ]
  },
  {
   "cell_type": "code",
   "execution_count": 28,
   "id": "43922ef5-3c43-414b-b635-f5051acd0ba9",
   "metadata": {},
   "outputs": [
    {
     "name": "stderr",
     "output_type": "stream",
     "text": [
      "/home/gridsan/hwpang/mambaforge/envs/rmg_rdmc_env_20230623_v2/lib/python3.7/site-packages/ipykernel_launcher.py:1: SettingWithCopyWarning: \n",
      "A value is trying to be set on a copy of a slice from a DataFrame.\n",
      "Try using .loc[row_indexer,col_indexer] = value instead\n",
      "\n",
      "See the caveats in the documentation: https://pandas.pydata.org/pandas-docs/stable/user_guide/indexing.html#returning-a-view-versus-a-copy\n",
      "  \"\"\"Entry point for launching an IPython kernel.\n"
     ]
    },
    {
     "data": {
      "text/html": [
       "<div>\n",
       "<style scoped>\n",
       "    .dataframe tbody tr th:only-of-type {\n",
       "        vertical-align: middle;\n",
       "    }\n",
       "\n",
       "    .dataframe tbody tr th {\n",
       "        vertical-align: top;\n",
       "    }\n",
       "\n",
       "    .dataframe thead th {\n",
       "        text-align: right;\n",
       "    }\n",
       "</style>\n",
       "<table border=\"1\" class=\"dataframe\">\n",
       "  <thead>\n",
       "    <tr style=\"text-align: right;\">\n",
       "      <th></th>\n",
       "      <th>resonance_radical_smiles</th>\n",
       "      <th>PCA0</th>\n",
       "      <th>PCA1</th>\n",
       "      <th>PCA2</th>\n",
       "      <th>PCA3</th>\n",
       "      <th>PCA4</th>\n",
       "      <th>PCA5</th>\n",
       "      <th>PCA6</th>\n",
       "      <th>PCA7</th>\n",
       "      <th>PCA8</th>\n",
       "      <th>...</th>\n",
       "      <th>PCA39</th>\n",
       "      <th>PCA40</th>\n",
       "      <th>PCA41</th>\n",
       "      <th>PCA42</th>\n",
       "      <th>PCA43</th>\n",
       "      <th>PCA44</th>\n",
       "      <th>PCA45</th>\n",
       "      <th>PCA46</th>\n",
       "      <th>PCA47</th>\n",
       "      <th>cluster</th>\n",
       "    </tr>\n",
       "  </thead>\n",
       "  <tbody>\n",
       "    <tr>\n",
       "      <th>0</th>\n",
       "      <td>[O]C(=O)OC(O)(O)O</td>\n",
       "      <td>-6.079879</td>\n",
       "      <td>-1.622304</td>\n",
       "      <td>0.067782</td>\n",
       "      <td>-1.229347</td>\n",
       "      <td>0.271359</td>\n",
       "      <td>-1.519785</td>\n",
       "      <td>3.088279</td>\n",
       "      <td>0.931092</td>\n",
       "      <td>-0.173112</td>\n",
       "      <td>...</td>\n",
       "      <td>0.001748</td>\n",
       "      <td>-0.506148</td>\n",
       "      <td>-0.804516</td>\n",
       "      <td>-0.671943</td>\n",
       "      <td>-0.320503</td>\n",
       "      <td>-0.679838</td>\n",
       "      <td>0.118380</td>\n",
       "      <td>0.145438</td>\n",
       "      <td>-0.103366</td>\n",
       "      <td>3</td>\n",
       "    </tr>\n",
       "    <tr>\n",
       "      <th>1</th>\n",
       "      <td>[O]C(O)(O)OC(=O)O</td>\n",
       "      <td>-6.078900</td>\n",
       "      <td>-1.618632</td>\n",
       "      <td>0.064764</td>\n",
       "      <td>-1.223703</td>\n",
       "      <td>0.227364</td>\n",
       "      <td>-1.505660</td>\n",
       "      <td>3.171464</td>\n",
       "      <td>0.979332</td>\n",
       "      <td>-0.205473</td>\n",
       "      <td>...</td>\n",
       "      <td>-0.450763</td>\n",
       "      <td>-0.067586</td>\n",
       "      <td>-0.068352</td>\n",
       "      <td>-0.019818</td>\n",
       "      <td>0.142946</td>\n",
       "      <td>-0.278485</td>\n",
       "      <td>0.060743</td>\n",
       "      <td>0.287587</td>\n",
       "      <td>-0.101474</td>\n",
       "      <td>3</td>\n",
       "    </tr>\n",
       "    <tr>\n",
       "      <th>2</th>\n",
       "      <td>O=C(O)O[C](O)O</td>\n",
       "      <td>-6.070807</td>\n",
       "      <td>-1.669983</td>\n",
       "      <td>0.210494</td>\n",
       "      <td>-1.111290</td>\n",
       "      <td>0.257273</td>\n",
       "      <td>-1.891706</td>\n",
       "      <td>3.793958</td>\n",
       "      <td>1.891071</td>\n",
       "      <td>-0.174762</td>\n",
       "      <td>...</td>\n",
       "      <td>-0.560922</td>\n",
       "      <td>0.406048</td>\n",
       "      <td>0.326461</td>\n",
       "      <td>0.054025</td>\n",
       "      <td>-0.171151</td>\n",
       "      <td>0.355619</td>\n",
       "      <td>0.282723</td>\n",
       "      <td>0.159173</td>\n",
       "      <td>0.079878</td>\n",
       "      <td>3</td>\n",
       "    </tr>\n",
       "    <tr>\n",
       "      <th>3</th>\n",
       "      <td>CC(=O)OC(OO)C(=O)C(O)O[O]</td>\n",
       "      <td>-0.914794</td>\n",
       "      <td>-2.619156</td>\n",
       "      <td>-0.112650</td>\n",
       "      <td>-1.769648</td>\n",
       "      <td>0.419368</td>\n",
       "      <td>-1.859175</td>\n",
       "      <td>4.413315</td>\n",
       "      <td>-2.435166</td>\n",
       "      <td>1.012287</td>\n",
       "      <td>...</td>\n",
       "      <td>0.168290</td>\n",
       "      <td>0.002688</td>\n",
       "      <td>-0.098459</td>\n",
       "      <td>-0.123082</td>\n",
       "      <td>0.432344</td>\n",
       "      <td>0.427751</td>\n",
       "      <td>0.244519</td>\n",
       "      <td>0.132819</td>\n",
       "      <td>-0.546545</td>\n",
       "      <td>2</td>\n",
       "    </tr>\n",
       "    <tr>\n",
       "      <th>4</th>\n",
       "      <td>O=[C]OC(O)(O)O</td>\n",
       "      <td>-6.036674</td>\n",
       "      <td>-1.328851</td>\n",
       "      <td>0.156109</td>\n",
       "      <td>-0.338871</td>\n",
       "      <td>0.086296</td>\n",
       "      <td>-1.533765</td>\n",
       "      <td>1.902881</td>\n",
       "      <td>1.225834</td>\n",
       "      <td>0.469501</td>\n",
       "      <td>...</td>\n",
       "      <td>-0.081655</td>\n",
       "      <td>-0.321211</td>\n",
       "      <td>-0.586774</td>\n",
       "      <td>-0.434472</td>\n",
       "      <td>0.026327</td>\n",
       "      <td>-0.713025</td>\n",
       "      <td>-0.281527</td>\n",
       "      <td>0.100749</td>\n",
       "      <td>0.018746</td>\n",
       "      <td>3</td>\n",
       "    </tr>\n",
       "    <tr>\n",
       "      <th>...</th>\n",
       "      <td>...</td>\n",
       "      <td>...</td>\n",
       "      <td>...</td>\n",
       "      <td>...</td>\n",
       "      <td>...</td>\n",
       "      <td>...</td>\n",
       "      <td>...</td>\n",
       "      <td>...</td>\n",
       "      <td>...</td>\n",
       "      <td>...</td>\n",
       "      <td>...</td>\n",
       "      <td>...</td>\n",
       "      <td>...</td>\n",
       "      <td>...</td>\n",
       "      <td>...</td>\n",
       "      <td>...</td>\n",
       "      <td>...</td>\n",
       "      <td>...</td>\n",
       "      <td>...</td>\n",
       "      <td>...</td>\n",
       "      <td>...</td>\n",
       "    </tr>\n",
       "    <tr>\n",
       "      <th>2804</th>\n",
       "      <td>[C]1=CC=C1</td>\n",
       "      <td>-5.751150</td>\n",
       "      <td>1.455596</td>\n",
       "      <td>-1.611709</td>\n",
       "      <td>-0.443388</td>\n",
       "      <td>3.293826</td>\n",
       "      <td>-0.747569</td>\n",
       "      <td>-1.502389</td>\n",
       "      <td>0.506445</td>\n",
       "      <td>-0.137217</td>\n",
       "      <td>...</td>\n",
       "      <td>0.014668</td>\n",
       "      <td>0.026136</td>\n",
       "      <td>-0.128501</td>\n",
       "      <td>0.090305</td>\n",
       "      <td>-0.046023</td>\n",
       "      <td>-0.066374</td>\n",
       "      <td>0.049489</td>\n",
       "      <td>0.008142</td>\n",
       "      <td>0.048411</td>\n",
       "      <td>10</td>\n",
       "    </tr>\n",
       "    <tr>\n",
       "      <th>2805</th>\n",
       "      <td>C=C=C1C=[C]C1</td>\n",
       "      <td>-4.101180</td>\n",
       "      <td>1.891527</td>\n",
       "      <td>-0.956291</td>\n",
       "      <td>1.183054</td>\n",
       "      <td>-0.583466</td>\n",
       "      <td>-0.697610</td>\n",
       "      <td>-1.259569</td>\n",
       "      <td>0.089722</td>\n",
       "      <td>-0.049366</td>\n",
       "      <td>...</td>\n",
       "      <td>0.030221</td>\n",
       "      <td>0.061296</td>\n",
       "      <td>-0.217502</td>\n",
       "      <td>0.018507</td>\n",
       "      <td>0.027889</td>\n",
       "      <td>0.117062</td>\n",
       "      <td>-0.014419</td>\n",
       "      <td>-0.040369</td>\n",
       "      <td>-0.005597</td>\n",
       "      <td>10</td>\n",
       "    </tr>\n",
       "    <tr>\n",
       "      <th>2806</th>\n",
       "      <td>[CH2]C1=CC#CC1</td>\n",
       "      <td>-4.082018</td>\n",
       "      <td>1.943650</td>\n",
       "      <td>-0.973192</td>\n",
       "      <td>1.143766</td>\n",
       "      <td>-0.596421</td>\n",
       "      <td>-0.715223</td>\n",
       "      <td>-1.158040</td>\n",
       "      <td>0.086964</td>\n",
       "      <td>-0.061173</td>\n",
       "      <td>...</td>\n",
       "      <td>-0.089928</td>\n",
       "      <td>-0.013178</td>\n",
       "      <td>-0.199250</td>\n",
       "      <td>-0.341297</td>\n",
       "      <td>0.104356</td>\n",
       "      <td>-0.002598</td>\n",
       "      <td>-0.056287</td>\n",
       "      <td>0.019013</td>\n",
       "      <td>0.110630</td>\n",
       "      <td>10</td>\n",
       "    </tr>\n",
       "    <tr>\n",
       "      <th>2807</th>\n",
       "      <td>C=C1[CH]C#CC1</td>\n",
       "      <td>-4.090874</td>\n",
       "      <td>1.921561</td>\n",
       "      <td>-0.997500</td>\n",
       "      <td>1.060851</td>\n",
       "      <td>-0.662177</td>\n",
       "      <td>-0.748084</td>\n",
       "      <td>-1.174265</td>\n",
       "      <td>-0.129532</td>\n",
       "      <td>-0.057141</td>\n",
       "      <td>...</td>\n",
       "      <td>0.218655</td>\n",
       "      <td>-0.168782</td>\n",
       "      <td>-0.268803</td>\n",
       "      <td>0.211234</td>\n",
       "      <td>-0.263228</td>\n",
       "      <td>0.021495</td>\n",
       "      <td>-0.105034</td>\n",
       "      <td>0.033118</td>\n",
       "      <td>-0.283508</td>\n",
       "      <td>10</td>\n",
       "    </tr>\n",
       "    <tr>\n",
       "      <th>2808</th>\n",
       "      <td>C=C1C=C=[C]C1</td>\n",
       "      <td>-4.069478</td>\n",
       "      <td>1.967678</td>\n",
       "      <td>-0.956520</td>\n",
       "      <td>1.026733</td>\n",
       "      <td>-0.537842</td>\n",
       "      <td>-0.754175</td>\n",
       "      <td>-1.116996</td>\n",
       "      <td>-0.066548</td>\n",
       "      <td>0.020285</td>\n",
       "      <td>...</td>\n",
       "      <td>-0.004705</td>\n",
       "      <td>-0.292852</td>\n",
       "      <td>-0.313313</td>\n",
       "      <td>0.245897</td>\n",
       "      <td>-0.449363</td>\n",
       "      <td>0.066794</td>\n",
       "      <td>0.287704</td>\n",
       "      <td>0.132040</td>\n",
       "      <td>-0.562429</td>\n",
       "      <td>10</td>\n",
       "    </tr>\n",
       "  </tbody>\n",
       "</table>\n",
       "<p>2809 rows × 50 columns</p>\n",
       "</div>"
      ],
      "text/plain": [
       "       resonance_radical_smiles      PCA0      PCA1      PCA2      PCA3  \\\n",
       "0             [O]C(=O)OC(O)(O)O -6.079879 -1.622304  0.067782 -1.229347   \n",
       "1             [O]C(O)(O)OC(=O)O -6.078900 -1.618632  0.064764 -1.223703   \n",
       "2                O=C(O)O[C](O)O -6.070807 -1.669983  0.210494 -1.111290   \n",
       "3     CC(=O)OC(OO)C(=O)C(O)O[O] -0.914794 -2.619156 -0.112650 -1.769648   \n",
       "4                O=[C]OC(O)(O)O -6.036674 -1.328851  0.156109 -0.338871   \n",
       "...                         ...       ...       ...       ...       ...   \n",
       "2804                 [C]1=CC=C1 -5.751150  1.455596 -1.611709 -0.443388   \n",
       "2805              C=C=C1C=[C]C1 -4.101180  1.891527 -0.956291  1.183054   \n",
       "2806             [CH2]C1=CC#CC1 -4.082018  1.943650 -0.973192  1.143766   \n",
       "2807              C=C1[CH]C#CC1 -4.090874  1.921561 -0.997500  1.060851   \n",
       "2808              C=C1C=C=[C]C1 -4.069478  1.967678 -0.956520  1.026733   \n",
       "\n",
       "          PCA4      PCA5      PCA6      PCA7      PCA8  ...     PCA39  \\\n",
       "0     0.271359 -1.519785  3.088279  0.931092 -0.173112  ...  0.001748   \n",
       "1     0.227364 -1.505660  3.171464  0.979332 -0.205473  ... -0.450763   \n",
       "2     0.257273 -1.891706  3.793958  1.891071 -0.174762  ... -0.560922   \n",
       "3     0.419368 -1.859175  4.413315 -2.435166  1.012287  ...  0.168290   \n",
       "4     0.086296 -1.533765  1.902881  1.225834  0.469501  ... -0.081655   \n",
       "...        ...       ...       ...       ...       ...  ...       ...   \n",
       "2804  3.293826 -0.747569 -1.502389  0.506445 -0.137217  ...  0.014668   \n",
       "2805 -0.583466 -0.697610 -1.259569  0.089722 -0.049366  ...  0.030221   \n",
       "2806 -0.596421 -0.715223 -1.158040  0.086964 -0.061173  ... -0.089928   \n",
       "2807 -0.662177 -0.748084 -1.174265 -0.129532 -0.057141  ...  0.218655   \n",
       "2808 -0.537842 -0.754175 -1.116996 -0.066548  0.020285  ... -0.004705   \n",
       "\n",
       "         PCA40     PCA41     PCA42     PCA43     PCA44     PCA45     PCA46  \\\n",
       "0    -0.506148 -0.804516 -0.671943 -0.320503 -0.679838  0.118380  0.145438   \n",
       "1    -0.067586 -0.068352 -0.019818  0.142946 -0.278485  0.060743  0.287587   \n",
       "2     0.406048  0.326461  0.054025 -0.171151  0.355619  0.282723  0.159173   \n",
       "3     0.002688 -0.098459 -0.123082  0.432344  0.427751  0.244519  0.132819   \n",
       "4    -0.321211 -0.586774 -0.434472  0.026327 -0.713025 -0.281527  0.100749   \n",
       "...        ...       ...       ...       ...       ...       ...       ...   \n",
       "2804  0.026136 -0.128501  0.090305 -0.046023 -0.066374  0.049489  0.008142   \n",
       "2805  0.061296 -0.217502  0.018507  0.027889  0.117062 -0.014419 -0.040369   \n",
       "2806 -0.013178 -0.199250 -0.341297  0.104356 -0.002598 -0.056287  0.019013   \n",
       "2807 -0.168782 -0.268803  0.211234 -0.263228  0.021495 -0.105034  0.033118   \n",
       "2808 -0.292852 -0.313313  0.245897 -0.449363  0.066794  0.287704  0.132040   \n",
       "\n",
       "         PCA47  cluster  \n",
       "0    -0.103366        3  \n",
       "1    -0.101474        3  \n",
       "2     0.079878        3  \n",
       "3    -0.546545        2  \n",
       "4     0.018746        3  \n",
       "...        ...      ...  \n",
       "2804  0.048411       10  \n",
       "2805 -0.005597       10  \n",
       "2806  0.110630       10  \n",
       "2807 -0.283508       10  \n",
       "2808 -0.562429       10  \n",
       "\n",
       "[2809 rows x 50 columns]"
      ]
     },
     "execution_count": 28,
     "metadata": {},
     "output_type": "execute_result"
    }
   ],
   "source": [
    "cluster_df[\"cluster\"] = kmeans.labels_\n",
    "cluster_df"
   ]
  },
  {
   "cell_type": "code",
   "execution_count": 29,
   "id": "57dc85bb-0e92-46b2-b848-b0898574c531",
   "metadata": {},
   "outputs": [],
   "source": [
    "cluster_df.to_csv(\"../data/resonance_radical_cluster.csv\", index=False)"
   ]
  },
  {
   "cell_type": "code",
   "execution_count": 31,
   "id": "f0afbd91-e5cb-4869-8b65-9d7956c59df6",
   "metadata": {},
   "outputs": [
    {
     "data": {
      "text/plain": [
       "{2: 418,\n",
       " 3: 362,\n",
       " 10: 305,\n",
       " 9: 278,\n",
       " 8: 238,\n",
       " 5: 212,\n",
       " 0: 203,\n",
       " 4: 172,\n",
       " 12: 168,\n",
       " 7: 114,\n",
       " 1: 112,\n",
       " 6: 95,\n",
       " 11: 65,\n",
       " 13: 39,\n",
       " 14: 28}"
      ]
     },
     "execution_count": 31,
     "metadata": {},
     "output_type": "execute_result"
    }
   ],
   "source": [
    "cluster_counts = cluster_df[\"cluster\"].value_counts().to_dict()\n",
    "cluster_counts"
   ]
  },
  {
   "cell_type": "code",
   "execution_count": 36,
   "id": "cf729c93-01f3-4112-91be-07f7d2a050c4",
   "metadata": {},
   "outputs": [
    {
     "data": {
      "image/png": "[encoded data removed]",
      "text/plain": [
       "<Figure size 640x480 with 1 Axes>"
      ]
     },
     "metadata": {},
     "output_type": "display_data"
    }
   ],
   "source": [
    "cmap = plt.get_cmap(\"tab20\")\n",
    "\n",
    "plt.figure()\n",
    "xs = range(n_clusters)\n",
    "for i, x in enumerate(xs):\n",
    "    plt.bar([x], [cluster_counts[x]], color=cmap(i))\n",
    "plt.xlabel(\"Cluster\")\n",
    "plt.ylabel(\"Counts\")\n",
    "plt.xticks(xs)\n",
    "plt.tight_layout()\n",
    "# plt.savefig(f\"../figures/kmeans_clustering_hist.pdf\")"
   ]
  },
  {
   "cell_type": "code",
   "execution_count": 39,
   "id": "b235abf3-cbbc-4ffd-bbdb-e259c2aacd19",
   "metadata": {},
   "outputs": [
    {
     "data": {
      "text/plain": [
       "Text(0, 0.5, 'PCA 2')"
      ]
     },
     "execution_count": 39,
     "metadata": {},
     "output_type": "execute_result"
    },
    {
     "data": {
      "text/plain": [
       "<Figure size 640x480 with 0 Axes>"
      ]
     },
     "metadata": {},
     "output_type": "display_data"
    },
    {
     "data": {
      "image/png": "[encoded data removed]",
      "text/plain": [
       "<Figure size 640x480 with 1 Axes>"
      ]
     },
     "metadata": {},
     "output_type": "display_data"
    }
   ],
   "source": [
    "plt.set_cmap('tab20')\n",
    "plt.figure()\n",
    "for i in range(n_clusters):\n",
    "    cluster_inds = cluster_df[\"cluster\"] == i\n",
    "    plt.scatter(X_pca[cluster_inds, 0], X_pca[cluster_inds, 1], label=i, color=cmap(i))\n",
    "\n",
    "plt.xlabel(\"PCA 1\")\n",
    "plt.ylabel(\"PCA 2\")\n",
    "# plt.savefig(f\"Figures/kmeans_clustering_pc1_pc2.pdf\")"
   ]
  },
  {
   "cell_type": "code",
   "execution_count": null,
   "id": "b71a9f10-3cf6-4228-b06b-2bad54d3d495",
   "metadata": {},
   "outputs": [],
   "source": []
  }
 ],
 "metadata": {
  "kernelspec": {
   "display_name": "Python [conda env:mambaforge-rmg_rdmc_env_20230623_v2]",
   "language": "python",
   "name": "conda-env-mambaforge-rmg_rdmc_env_20230623_v2-py"
  },
  "language_info": {
   "codemirror_mode": {
    "name": "ipython",
    "version": 3
   },
   "file_extension": ".py",
   "mimetype": "text/x-python",
   "name": "python",
   "nbconvert_exporter": "python",
   "pygments_lexer": "ipython3",
   "version": "3.7.16"
  }
 },
 "nbformat": 4,
 "nbformat_minor": 5
}
