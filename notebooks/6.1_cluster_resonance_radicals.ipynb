{
 "cells": [
  {
   "cell_type": "markdown",
   "id": "4f184497-682c-417e-9c96-f7d127d84898",
   "metadata": {},
   "source": [
    "# Cluster resonance radicals"
   ]
  },
  {
   "cell_type": "code",
   "execution_count": 1,
   "id": "479dd2e5-a676-421b-b08f-d3bca8452502",
   "metadata": {},
   "outputs": [],
   "source": [
    "import string\n",
    "import json\n",
    "import pandas as pd\n",
    "from sklearn.model_selection import train_test_split\n",
    "from sklearn.decomposition import PCA\n",
    "from sklearn.cluster import KMeans\n",
    "from scipy.spatial.distance import cdist\n",
    "from tqdm import tqdm\n",
    "from rdkit.Chem import rdFingerprintGenerator\n",
    "import numpy as np\n",
    "import matplotlib.pyplot as plt\n",
    "import matplotlib\n",
    "matplotlib.rcParams['mathtext.fontset'] = 'stix'\n",
    "matplotlib.rcParams['font.family'] = 'STIXGeneral'\n",
    "\n",
    "from rdmc.mol import RDKitMol\n",
    "\n",
    "def make_rdkit_mol(smi):\n",
    "    return RDKitMol.FromSmiles(smi)._mol"
   ]
  },
  {
   "cell_type": "code",
   "execution_count": 2,
   "id": "a764e371-921b-4fee-b18b-adf9534a385b",
   "metadata": {},
   "outputs": [],
   "source": [
    "hbi_unc_df = pd.read_csv(\"../data/hbi_unc.csv\")"
   ]
  },
  {
   "cell_type": "code",
   "execution_count": 3,
   "id": "6da0fc8c-a258-48e4-b992-39eb4866818a",
   "metadata": {},
   "outputs": [],
   "source": [
    "cluster_df = hbi_unc_df[[\"resonance_radical_smiles\"]]"
   ]
  },
  {
   "cell_type": "code",
   "execution_count": 4,
   "id": "cb6e79a3-a2d7-4a3e-ad38-0f5f49206b95",
   "metadata": {},
   "outputs": [],
   "source": [
    "def get_fingerprint(smi, method=\"morgan\", count_based=False, **kwargs):\n",
    "    mol = make_rdkit_mol(smi)\n",
    "    if method == \"rdkit\":\n",
    "        fpgen = rdFingerprintGenerator.GetRDKitFPGenerator(**kwargs)\n",
    "    elif method == \"morgan\":\n",
    "        fpgen = rdFingerprintGenerator.GetMorganGenerator(**kwargs)\n",
    "    if count_based:\n",
    "        fps = fpgen.GetCountFingerprintAsNumPy(mol)\n",
    "    else:\n",
    "        fps =  fpgen.GetFingerprintAsNumPy(mol)\n",
    "    return fps"
   ]
  },
  {
   "cell_type": "code",
   "execution_count": 5,
   "id": "08e81798-5a65-452a-b212-68b531804c0b",
   "metadata": {},
   "outputs": [
    {
     "name": "stderr",
     "output_type": "stream",
     "text": [
      "100%|██████████| 2806/2806 [00:02<00:00, 1273.93it/s]\n"
     ]
    }
   ],
   "source": [
    "out = [get_fingerprint(smi, method=\"morgan\", count_based=True) for smi in tqdm(hbi_unc_df[\"resonance_radical_smiles\"])]"
   ]
  },
  {
   "cell_type": "code",
   "execution_count": 6,
   "id": "1f463b80-b7c3-4576-82ea-5e47514b2ff2",
   "metadata": {},
   "outputs": [
    {
     "data": {
      "text/plain": [
       "array([[0, 0, 0, ..., 0, 0, 0],\n",
       "       [0, 0, 0, ..., 0, 0, 0],\n",
       "       [0, 0, 0, ..., 0, 0, 0],\n",
       "       ...,\n",
       "       [0, 0, 0, ..., 0, 0, 0],\n",
       "       [0, 0, 0, ..., 0, 0, 0],\n",
       "       [0, 0, 0, ..., 0, 0, 0]], dtype=uint32)"
      ]
     },
     "execution_count": 6,
     "metadata": {},
     "output_type": "execute_result"
    }
   ],
   "source": [
    "X = np.vstack(out)\n",
    "X"
   ]
  },
  {
   "cell_type": "code",
   "execution_count": 7,
   "id": "5df6505e-418b-4a3f-b274-a71d33b852cc",
   "metadata": {},
   "outputs": [
    {
     "data": {
      "text/plain": [
       "PCA(random_state=0)"
      ]
     },
     "execution_count": 7,
     "metadata": {},
     "output_type": "execute_result"
    }
   ],
   "source": [
    "pca = PCA(random_state=0)\n",
    "pca.fit(X)"
   ]
  },
  {
   "cell_type": "code",
   "execution_count": 8,
   "id": "0237f35d-8fe1-420d-825f-3b93e9c76ac4",
   "metadata": {},
   "outputs": [
    {
     "data": {
      "text/plain": [
       "(2806, 48)"
      ]
     },
     "execution_count": 8,
     "metadata": {},
     "output_type": "execute_result"
    }
   ],
   "source": [
    "pca_80 = PCA(0.8, random_state=0)\n",
    "X_pca = pca_80.fit_transform(X)\n",
    "X_pca.shape"
   ]
  },
  {
   "cell_type": "code",
   "execution_count": 9,
   "id": "194cc69a-cded-4f24-8c13-cc139ad41fc0",
   "metadata": {},
   "outputs": [
    {
     "name": "stderr",
     "output_type": "stream",
     "text": [
      "/home/gridsan/hwpang/mambaforge/envs/rmg_rdmc_env_20230623_v2/lib/python3.7/site-packages/ipykernel_launcher.py:2: SettingWithCopyWarning: \n",
      "A value is trying to be set on a copy of a slice from a DataFrame.\n",
      "Try using .loc[row_indexer,col_indexer] = value instead\n",
      "\n",
      "See the caveats in the documentation: https://pandas.pydata.org/pandas-docs/stable/user_guide/indexing.html#returning-a-view-versus-a-copy\n",
      "  \n"
     ]
    }
   ],
   "source": [
    "for ind in range(X_pca.shape[1]):\n",
    "    cluster_df[f\"PCA{ind}\"] = X_pca[:, ind]"
   ]
  },
  {
   "cell_type": "code",
   "execution_count": 10,
   "id": "6348d686-4fd6-4fba-bd4c-aad7e7a41de0",
   "metadata": {},
   "outputs": [
    {
     "name": "stderr",
     "output_type": "stream",
     "text": [
      "100%|██████████| 30/30 [00:54<00:00,  1.83s/it]\n"
     ]
    }
   ],
   "source": [
    "max_n_clusters = 30\n",
    "intertias = []\n",
    "sh_scores = []\n",
    "n_clusterss = range(1, max_n_clusters+1)\n",
    "for n_clusters in tqdm(n_clusterss):\n",
    "    kmeans = KMeans(n_clusters=n_clusters, random_state=0)\n",
    "    kmeans.fit(X_pca)\n",
    "    intertias.append(kmeans.inertia_)\n"
   ]
  },
  {
   "cell_type": "code",
   "execution_count": 11,
   "id": "3bb30b51-787f-4ace-a3d0-c7b0621630e8",
   "metadata": {},
   "outputs": [
    {
     "data": {
      "text/plain": [
       "Text(0, 0.5, 'Inertia change')"
      ]
     },
     "execution_count": 11,
     "metadata": {},
     "output_type": "execute_result"
    },
    {
     "data": {
      "image/png": "[encoded data removed]",
      "text/plain": [
       "<Figure size 640x480 with 1 Axes>"
      ]
     },
     "metadata": {},
     "output_type": "display_data"
    }
   ],
   "source": [
    "plt.figure()\n",
    "plt.plot(n_clusterss[1:], np.diff(np.array(intertias)), \"-o\")\n",
    "plt.xlabel(\"Number of clusters\")\n",
    "plt.ylabel(\"Inertia change\")"
   ]
  },
  {
   "cell_type": "code",
   "execution_count": 12,
   "id": "977a9971-da6d-484b-83d1-be3fed91e464",
   "metadata": {},
   "outputs": [
    {
     "data": {
      "text/plain": [
       "KMeans(n_clusters=15, random_state=0)"
      ]
     },
     "execution_count": 12,
     "metadata": {},
     "output_type": "execute_result"
    }
   ],
   "source": [
    "n_clusters = 15\n",
    "kmeans = KMeans(n_clusters=n_clusters, random_state=0)\n",
    "kmeans.fit(X_pca)"
   ]
  },
  {
   "cell_type": "code",
   "execution_count": 13,
   "id": "43922ef5-3c43-414b-b635-f5051acd0ba9",
   "metadata": {},
   "outputs": [
    {
     "name": "stderr",
     "output_type": "stream",
     "text": [
      "/home/gridsan/hwpang/mambaforge/envs/rmg_rdmc_env_20230623_v2/lib/python3.7/site-packages/ipykernel_launcher.py:1: SettingWithCopyWarning: \n",
      "A value is trying to be set on a copy of a slice from a DataFrame.\n",
      "Try using .loc[row_indexer,col_indexer] = value instead\n",
      "\n",
      "See the caveats in the documentation: https://pandas.pydata.org/pandas-docs/stable/user_guide/indexing.html#returning-a-view-versus-a-copy\n",
      "  \"\"\"Entry point for launching an IPython kernel.\n"
     ]
    },
    {
     "data": {
      "text/html": [
       "<div>\n",
       "<style scoped>\n",
       "    .dataframe tbody tr th:only-of-type {\n",
       "        vertical-align: middle;\n",
       "    }\n",
       "\n",
       "    .dataframe tbody tr th {\n",
       "        vertical-align: top;\n",
       "    }\n",
       "\n",
       "    .dataframe thead th {\n",
       "        text-align: right;\n",
       "    }\n",
       "</style>\n",
       "<table border=\"1\" class=\"dataframe\">\n",
       "  <thead>\n",
       "    <tr style=\"text-align: right;\">\n",
       "      <th></th>\n",
       "      <th>resonance_radical_smiles</th>\n",
       "      <th>PCA0</th>\n",
       "      <th>PCA1</th>\n",
       "      <th>PCA2</th>\n",
       "      <th>PCA3</th>\n",
       "      <th>PCA4</th>\n",
       "      <th>PCA5</th>\n",
       "      <th>PCA6</th>\n",
       "      <th>PCA7</th>\n",
       "      <th>PCA8</th>\n",
       "      <th>...</th>\n",
       "      <th>PCA39</th>\n",
       "      <th>PCA40</th>\n",
       "      <th>PCA41</th>\n",
       "      <th>PCA42</th>\n",
       "      <th>PCA43</th>\n",
       "      <th>PCA44</th>\n",
       "      <th>PCA45</th>\n",
       "      <th>PCA46</th>\n",
       "      <th>PCA47</th>\n",
       "      <th>cluster</th>\n",
       "    </tr>\n",
       "  </thead>\n",
       "  <tbody>\n",
       "    <tr>\n",
       "      <th>0</th>\n",
       "      <td>[O]C(=O)OC(O)(O)O</td>\n",
       "      <td>-6.085906</td>\n",
       "      <td>-1.612604</td>\n",
       "      <td>0.065838</td>\n",
       "      <td>-1.230083</td>\n",
       "      <td>0.279065</td>\n",
       "      <td>-1.522517</td>\n",
       "      <td>3.085540</td>\n",
       "      <td>0.930813</td>\n",
       "      <td>-0.173539</td>\n",
       "      <td>...</td>\n",
       "      <td>-0.003102</td>\n",
       "      <td>-0.462155</td>\n",
       "      <td>-0.775157</td>\n",
       "      <td>-0.699653</td>\n",
       "      <td>-0.347715</td>\n",
       "      <td>-0.699912</td>\n",
       "      <td>0.131563</td>\n",
       "      <td>0.136523</td>\n",
       "      <td>-0.106681</td>\n",
       "      <td>4</td>\n",
       "    </tr>\n",
       "    <tr>\n",
       "      <th>1</th>\n",
       "      <td>[O]C(O)(O)OC(=O)O</td>\n",
       "      <td>-6.084939</td>\n",
       "      <td>-1.608886</td>\n",
       "      <td>0.062735</td>\n",
       "      <td>-1.224500</td>\n",
       "      <td>0.235212</td>\n",
       "      <td>-1.508302</td>\n",
       "      <td>3.168887</td>\n",
       "      <td>0.978989</td>\n",
       "      <td>-0.205937</td>\n",
       "      <td>...</td>\n",
       "      <td>-0.450357</td>\n",
       "      <td>-0.064004</td>\n",
       "      <td>-0.070831</td>\n",
       "      <td>-0.024042</td>\n",
       "      <td>0.143286</td>\n",
       "      <td>-0.277290</td>\n",
       "      <td>0.063729</td>\n",
       "      <td>0.293277</td>\n",
       "      <td>-0.097939</td>\n",
       "      <td>4</td>\n",
       "    </tr>\n",
       "    <tr>\n",
       "      <th>2</th>\n",
       "      <td>O=C(O)O[C](O)O</td>\n",
       "      <td>-6.076921</td>\n",
       "      <td>-1.660033</td>\n",
       "      <td>0.208646</td>\n",
       "      <td>-1.111944</td>\n",
       "      <td>0.264263</td>\n",
       "      <td>-1.894533</td>\n",
       "      <td>3.791866</td>\n",
       "      <td>1.890258</td>\n",
       "      <td>-0.174831</td>\n",
       "      <td>...</td>\n",
       "      <td>-0.559688</td>\n",
       "      <td>0.388545</td>\n",
       "      <td>0.336699</td>\n",
       "      <td>0.069464</td>\n",
       "      <td>-0.167238</td>\n",
       "      <td>0.362236</td>\n",
       "      <td>0.273756</td>\n",
       "      <td>0.165467</td>\n",
       "      <td>0.082968</td>\n",
       "      <td>4</td>\n",
       "    </tr>\n",
       "    <tr>\n",
       "      <th>3</th>\n",
       "      <td>CC(=O)OC(OO)C(=O)C(O)O[O]</td>\n",
       "      <td>-0.921803</td>\n",
       "      <td>-2.614343</td>\n",
       "      <td>-0.110390</td>\n",
       "      <td>-1.769893</td>\n",
       "      <td>0.427751</td>\n",
       "      <td>-1.862665</td>\n",
       "      <td>4.410073</td>\n",
       "      <td>-2.435848</td>\n",
       "      <td>1.014240</td>\n",
       "      <td>...</td>\n",
       "      <td>0.169026</td>\n",
       "      <td>0.006937</td>\n",
       "      <td>-0.104404</td>\n",
       "      <td>-0.136032</td>\n",
       "      <td>0.423930</td>\n",
       "      <td>0.438770</td>\n",
       "      <td>0.236321</td>\n",
       "      <td>0.147926</td>\n",
       "      <td>-0.542505</td>\n",
       "      <td>12</td>\n",
       "    </tr>\n",
       "    <tr>\n",
       "      <th>4</th>\n",
       "      <td>O=[C]OC(O)(O)O</td>\n",
       "      <td>-6.042417</td>\n",
       "      <td>-1.319085</td>\n",
       "      <td>0.153521</td>\n",
       "      <td>-0.339542</td>\n",
       "      <td>0.090025</td>\n",
       "      <td>-1.535296</td>\n",
       "      <td>1.900978</td>\n",
       "      <td>1.225757</td>\n",
       "      <td>0.469968</td>\n",
       "      <td>...</td>\n",
       "      <td>-0.085139</td>\n",
       "      <td>-0.289994</td>\n",
       "      <td>-0.571391</td>\n",
       "      <td>-0.458227</td>\n",
       "      <td>0.011187</td>\n",
       "      <td>-0.730488</td>\n",
       "      <td>-0.267353</td>\n",
       "      <td>0.090859</td>\n",
       "      <td>0.016763</td>\n",
       "      <td>4</td>\n",
       "    </tr>\n",
       "    <tr>\n",
       "      <th>...</th>\n",
       "      <td>...</td>\n",
       "      <td>...</td>\n",
       "      <td>...</td>\n",
       "      <td>...</td>\n",
       "      <td>...</td>\n",
       "      <td>...</td>\n",
       "      <td>...</td>\n",
       "      <td>...</td>\n",
       "      <td>...</td>\n",
       "      <td>...</td>\n",
       "      <td>...</td>\n",
       "      <td>...</td>\n",
       "      <td>...</td>\n",
       "      <td>...</td>\n",
       "      <td>...</td>\n",
       "      <td>...</td>\n",
       "      <td>...</td>\n",
       "      <td>...</td>\n",
       "      <td>...</td>\n",
       "      <td>...</td>\n",
       "      <td>...</td>\n",
       "    </tr>\n",
       "    <tr>\n",
       "      <th>2801</th>\n",
       "      <td>[C]1=CC=C1</td>\n",
       "      <td>-5.750716</td>\n",
       "      <td>1.454422</td>\n",
       "      <td>-1.610990</td>\n",
       "      <td>-0.440455</td>\n",
       "      <td>3.292207</td>\n",
       "      <td>-0.755873</td>\n",
       "      <td>-1.510086</td>\n",
       "      <td>0.506987</td>\n",
       "      <td>-0.135349</td>\n",
       "      <td>...</td>\n",
       "      <td>0.012023</td>\n",
       "      <td>0.033498</td>\n",
       "      <td>-0.112837</td>\n",
       "      <td>0.092253</td>\n",
       "      <td>-0.034175</td>\n",
       "      <td>-0.061516</td>\n",
       "      <td>0.054698</td>\n",
       "      <td>0.028172</td>\n",
       "      <td>0.058319</td>\n",
       "      <td>2</td>\n",
       "    </tr>\n",
       "    <tr>\n",
       "      <th>2802</th>\n",
       "      <td>C=C=C1C=[C]C1</td>\n",
       "      <td>-4.102812</td>\n",
       "      <td>1.896006</td>\n",
       "      <td>-0.963629</td>\n",
       "      <td>1.181498</td>\n",
       "      <td>-0.585473</td>\n",
       "      <td>-0.695752</td>\n",
       "      <td>-1.258594</td>\n",
       "      <td>0.088801</td>\n",
       "      <td>-0.045615</td>\n",
       "      <td>...</td>\n",
       "      <td>0.026448</td>\n",
       "      <td>0.072533</td>\n",
       "      <td>-0.200663</td>\n",
       "      <td>0.014111</td>\n",
       "      <td>0.035925</td>\n",
       "      <td>0.120110</td>\n",
       "      <td>-0.010207</td>\n",
       "      <td>-0.017513</td>\n",
       "      <td>0.004900</td>\n",
       "      <td>13</td>\n",
       "    </tr>\n",
       "    <tr>\n",
       "      <th>2803</th>\n",
       "      <td>[CH2]C1=CC#CC1</td>\n",
       "      <td>-4.083084</td>\n",
       "      <td>1.946925</td>\n",
       "      <td>-0.979417</td>\n",
       "      <td>1.142615</td>\n",
       "      <td>-0.601086</td>\n",
       "      <td>-0.712902</td>\n",
       "      <td>-1.155489</td>\n",
       "      <td>0.085319</td>\n",
       "      <td>-0.056942</td>\n",
       "      <td>...</td>\n",
       "      <td>-0.095695</td>\n",
       "      <td>-0.001622</td>\n",
       "      <td>-0.159103</td>\n",
       "      <td>-0.340815</td>\n",
       "      <td>0.116721</td>\n",
       "      <td>-0.000504</td>\n",
       "      <td>-0.044281</td>\n",
       "      <td>0.056896</td>\n",
       "      <td>0.129267</td>\n",
       "      <td>13</td>\n",
       "    </tr>\n",
       "    <tr>\n",
       "      <th>2804</th>\n",
       "      <td>C=C1[CH]C#CC1</td>\n",
       "      <td>-4.091999</td>\n",
       "      <td>1.924919</td>\n",
       "      <td>-1.003828</td>\n",
       "      <td>1.059591</td>\n",
       "      <td>-0.666588</td>\n",
       "      <td>-0.745642</td>\n",
       "      <td>-1.171785</td>\n",
       "      <td>-0.131109</td>\n",
       "      <td>-0.052942</td>\n",
       "      <td>...</td>\n",
       "      <td>0.210290</td>\n",
       "      <td>-0.154116</td>\n",
       "      <td>-0.248852</td>\n",
       "      <td>0.214810</td>\n",
       "      <td>-0.240887</td>\n",
       "      <td>0.021649</td>\n",
       "      <td>-0.093836</td>\n",
       "      <td>0.073925</td>\n",
       "      <td>-0.264129</td>\n",
       "      <td>13</td>\n",
       "    </tr>\n",
       "    <tr>\n",
       "      <th>2805</th>\n",
       "      <td>C=C1C=C=[C]C1</td>\n",
       "      <td>-4.070561</td>\n",
       "      <td>1.971034</td>\n",
       "      <td>-0.962813</td>\n",
       "      <td>1.025566</td>\n",
       "      <td>-0.541976</td>\n",
       "      <td>-0.752174</td>\n",
       "      <td>-1.114819</td>\n",
       "      <td>-0.068328</td>\n",
       "      <td>0.025210</td>\n",
       "      <td>...</td>\n",
       "      <td>-0.012921</td>\n",
       "      <td>-0.274094</td>\n",
       "      <td>-0.289177</td>\n",
       "      <td>0.252446</td>\n",
       "      <td>-0.425586</td>\n",
       "      <td>0.076467</td>\n",
       "      <td>0.293571</td>\n",
       "      <td>0.181601</td>\n",
       "      <td>-0.539680</td>\n",
       "      <td>13</td>\n",
       "    </tr>\n",
       "  </tbody>\n",
       "</table>\n",
       "<p>2806 rows × 50 columns</p>\n",
       "</div>"
      ],
      "text/plain": [
       "       resonance_radical_smiles      PCA0      PCA1      PCA2      PCA3  \\\n",
       "0             [O]C(=O)OC(O)(O)O -6.085906 -1.612604  0.065838 -1.230083   \n",
       "1             [O]C(O)(O)OC(=O)O -6.084939 -1.608886  0.062735 -1.224500   \n",
       "2                O=C(O)O[C](O)O -6.076921 -1.660033  0.208646 -1.111944   \n",
       "3     CC(=O)OC(OO)C(=O)C(O)O[O] -0.921803 -2.614343 -0.110390 -1.769893   \n",
       "4                O=[C]OC(O)(O)O -6.042417 -1.319085  0.153521 -0.339542   \n",
       "...                         ...       ...       ...       ...       ...   \n",
       "2801                 [C]1=CC=C1 -5.750716  1.454422 -1.610990 -0.440455   \n",
       "2802              C=C=C1C=[C]C1 -4.102812  1.896006 -0.963629  1.181498   \n",
       "2803             [CH2]C1=CC#CC1 -4.083084  1.946925 -0.979417  1.142615   \n",
       "2804              C=C1[CH]C#CC1 -4.091999  1.924919 -1.003828  1.059591   \n",
       "2805              C=C1C=C=[C]C1 -4.070561  1.971034 -0.962813  1.025566   \n",
       "\n",
       "          PCA4      PCA5      PCA6      PCA7      PCA8  ...     PCA39  \\\n",
       "0     0.279065 -1.522517  3.085540  0.930813 -0.173539  ... -0.003102   \n",
       "1     0.235212 -1.508302  3.168887  0.978989 -0.205937  ... -0.450357   \n",
       "2     0.264263 -1.894533  3.791866  1.890258 -0.174831  ... -0.559688   \n",
       "3     0.427751 -1.862665  4.410073 -2.435848  1.014240  ...  0.169026   \n",
       "4     0.090025 -1.535296  1.900978  1.225757  0.469968  ... -0.085139   \n",
       "...        ...       ...       ...       ...       ...  ...       ...   \n",
       "2801  3.292207 -0.755873 -1.510086  0.506987 -0.135349  ...  0.012023   \n",
       "2802 -0.585473 -0.695752 -1.258594  0.088801 -0.045615  ...  0.026448   \n",
       "2803 -0.601086 -0.712902 -1.155489  0.085319 -0.056942  ... -0.095695   \n",
       "2804 -0.666588 -0.745642 -1.171785 -0.131109 -0.052942  ...  0.210290   \n",
       "2805 -0.541976 -0.752174 -1.114819 -0.068328  0.025210  ... -0.012921   \n",
       "\n",
       "         PCA40     PCA41     PCA42     PCA43     PCA44     PCA45     PCA46  \\\n",
       "0    -0.462155 -0.775157 -0.699653 -0.347715 -0.699912  0.131563  0.136523   \n",
       "1    -0.064004 -0.070831 -0.024042  0.143286 -0.277290  0.063729  0.293277   \n",
       "2     0.388545  0.336699  0.069464 -0.167238  0.362236  0.273756  0.165467   \n",
       "3     0.006937 -0.104404 -0.136032  0.423930  0.438770  0.236321  0.147926   \n",
       "4    -0.289994 -0.571391 -0.458227  0.011187 -0.730488 -0.267353  0.090859   \n",
       "...        ...       ...       ...       ...       ...       ...       ...   \n",
       "2801  0.033498 -0.112837  0.092253 -0.034175 -0.061516  0.054698  0.028172   \n",
       "2802  0.072533 -0.200663  0.014111  0.035925  0.120110 -0.010207 -0.017513   \n",
       "2803 -0.001622 -0.159103 -0.340815  0.116721 -0.000504 -0.044281  0.056896   \n",
       "2804 -0.154116 -0.248852  0.214810 -0.240887  0.021649 -0.093836  0.073925   \n",
       "2805 -0.274094 -0.289177  0.252446 -0.425586  0.076467  0.293571  0.181601   \n",
       "\n",
       "         PCA47  cluster  \n",
       "0    -0.106681        4  \n",
       "1    -0.097939        4  \n",
       "2     0.082968        4  \n",
       "3    -0.542505       12  \n",
       "4     0.016763        4  \n",
       "...        ...      ...  \n",
       "2801  0.058319        2  \n",
       "2802  0.004900       13  \n",
       "2803  0.129267       13  \n",
       "2804 -0.264129       13  \n",
       "2805 -0.539680       13  \n",
       "\n",
       "[2806 rows x 50 columns]"
      ]
     },
     "execution_count": 13,
     "metadata": {},
     "output_type": "execute_result"
    }
   ],
   "source": [
    "cluster_df[\"cluster\"] = kmeans.labels_\n",
    "cluster_df"
   ]
  },
  {
   "cell_type": "code",
   "execution_count": 14,
   "id": "57dc85bb-0e92-46b2-b848-b0898574c531",
   "metadata": {},
   "outputs": [],
   "source": [
    "cluster_df.to_csv(\"../data/resonance_radical_cluster.csv\", index=False)"
   ]
  },
  {
   "cell_type": "code",
   "execution_count": 15,
   "id": "54eea04b-a556-4e0e-b62f-bd3e9725fe0d",
   "metadata": {},
   "outputs": [],
   "source": [
    "cluster_df = pd.read_csv(\"../data/resonance_radical_cluster.csv\")"
   ]
  },
  {
   "cell_type": "code",
   "execution_count": 16,
   "id": "f0afbd91-e5cb-4869-8b65-9d7956c59df6",
   "metadata": {},
   "outputs": [
    {
     "data": {
      "text/plain": [
       "{4: 383,\n",
       " 12: 315,\n",
       " 3: 295,\n",
       " 11: 257,\n",
       " 0: 237,\n",
       " 13: 228,\n",
       " 8: 207,\n",
       " 1: 190,\n",
       " 2: 164,\n",
       " 14: 161,\n",
       " 10: 130,\n",
       " 7: 89,\n",
       " 6: 83,\n",
       " 5: 39,\n",
       " 9: 28}"
      ]
     },
     "execution_count": 16,
     "metadata": {},
     "output_type": "execute_result"
    }
   ],
   "source": [
    "cluster_counts = cluster_df[\"cluster\"].value_counts().to_dict()\n",
    "cluster_counts"
   ]
  },
  {
   "cell_type": "code",
   "execution_count": 17,
   "id": "b71a9f10-3cf6-4228-b06b-2bad54d3d495",
   "metadata": {},
   "outputs": [
    {
     "data": {
      "image/png": "[encoded data removed]",
      "text/plain": [
       "<Figure size 800x650 with 4 Axes>"
      ]
     },
     "metadata": {},
     "output_type": "display_data"
    }
   ],
   "source": [
    "fig, axs = plt.subplots(nrows=2, ncols=2, figsize=(8, 6.5))\n",
    "\n",
    "ax_i = 0\n",
    "ax = axs.flat[ax_i]\n",
    "var_percs = pca.explained_variance_ratio_ * 100\n",
    "var_perc_cumsum = np.cumsum(var_percs)\n",
    "xs = range(len(var_perc_cumsum))\n",
    "ax.plot(xs, var_perc_cumsum)\n",
    "ax.plot([xs[0], xs[-1]], [80, 80], \"k--\")\n",
    "ax.set_xlabel(\"Principal components\")\n",
    "ax.set_ylabel(\"Variance (%)\")\n",
    "ax.set_title(f\"({string.ascii_lowercase[ax_i]})\", loc=\"left\")\n",
    "\n",
    "ax_i = 1\n",
    "ax = axs.flat[ax_i]\n",
    "ax.plot(n_clusterss, np.array(intertias), \"-o\")\n",
    "ax.set_xlabel(\"Number of clusters\")\n",
    "ax.set_ylabel(\"Inertia\")\n",
    "ax.set_title(f\"({string.ascii_lowercase[ax_i]})\", loc=\"left\")\n",
    "\n",
    "ax_i = 2\n",
    "ax = axs.flat[ax_i]\n",
    "cmap = plt.get_cmap(\"tab20\")\n",
    "xs = range(n_clusters)\n",
    "for i, x in enumerate(xs):\n",
    "    ax.bar([x], [cluster_counts[x]], color=cmap(i))\n",
    "ax.set_xlabel(\"Cluster\")\n",
    "ax.set_ylabel(\"Counts\")\n",
    "ax.set_xticks(xs)\n",
    "ax.set_title(f\"({string.ascii_lowercase[ax_i]})\", loc=\"left\")\n",
    "\n",
    "ax_i = 3\n",
    "ax = axs.flat[ax_i]\n",
    "for i in range(n_clusters):\n",
    "    cluster_inds = cluster_df[\"cluster\"] == i\n",
    "    ax.scatter(X_pca[cluster_inds, 0], X_pca[cluster_inds, 1], label=i, color=cmap(i))\n",
    "ax.set_xlabel(\"PCA 1\")\n",
    "ax.set_ylabel(\"PCA 2\")\n",
    "ax.set_title(f\"({string.ascii_lowercase[ax_i]})\", loc=\"left\")\n",
    "\n",
    "fig.align_labels()\n",
    "fig.tight_layout()\n",
    "fig.savefig(f\"../figures/pca_kmeans_clustering.pdf\")"
   ]
  },
  {
   "cell_type": "code",
   "execution_count": null,
   "id": "404f5d33-77a6-43b4-b17c-f54ad4676971",
   "metadata": {},
   "outputs": [],
   "source": []
  }
 ],
 "metadata": {
  "kernelspec": {
   "display_name": "Python [conda env:mambaforge-rmg_rdmc_env_20230623_v2]",
   "language": "python",
   "name": "conda-env-mambaforge-rmg_rdmc_env_20230623_v2-py"
  },
  "language_info": {
   "codemirror_mode": {
    "name": "ipython",
    "version": 3
   },
   "file_extension": ".py",
   "mimetype": "text/x-python",
   "name": "python",
   "nbconvert_exporter": "python",
   "pygments_lexer": "ipython3",
   "version": "3.7.16"
  }
 },
 "nbformat": 4,
 "nbformat_minor": 5
}
