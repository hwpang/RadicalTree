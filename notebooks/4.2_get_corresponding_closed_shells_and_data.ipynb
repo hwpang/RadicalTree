{
 "cells": [
  {
   "cell_type": "markdown",
   "id": "41366d77-8cb7-49fe-8f46-d6f90dd8db6d",
   "metadata": {},
   "source": [
    "# Get corresponding closed shells and data"
   ]
  },
  {
   "cell_type": "code",
   "execution_count": 14,
   "id": "43317543-d29e-4f5c-9157-374f075c630e",
   "metadata": {},
   "outputs": [],
   "source": [
    "import sys\n",
    "sys.path.insert(0,\"/home/gridsan/hwpang/Software/RMG-Py/\")\n",
    "sys.path.insert(0,\"..\")\n",
    "\n",
    "import random\n",
    "import os\n",
    "import time\n",
    "import math\n",
    "from copy import deepcopy\n",
    "import pandas as pd\n",
    "from joblib import Parallel, delayed\n",
    "from tqdm import tqdm\n",
    "\n",
    "from rmgpy.data.thermo import ThermoDatabase, ThermoLibrary, ThermoData, remove_thermo_data, add_thermo_data, NASA\n",
    "from rmgpy.molecule import Molecule\n",
    "from rmgpy.species import Species\n",
    "from rmgpy import settings\n",
    "from rmgpy import constants\n",
    "\n",
    "from tree.utils import load_thermo_lib_by_path, generate_thermo\n",
    "from tree.parameters import Ts"
   ]
  },
  {
   "cell_type": "markdown",
   "id": "b9bf238a-f7aa-4ee2-b1c0-45618c26f87c",
   "metadata": {},
   "source": [
    "# Load resonance radicals"
   ]
  },
  {
   "cell_type": "code",
   "execution_count": 15,
   "id": "41ad6a9a-a6a7-4167-8d00-71e8fbeb97f4",
   "metadata": {},
   "outputs": [],
   "source": [
    "resonance_radical_df = pd.read_csv(\"../data/resonance_radicals.csv\")"
   ]
  },
  {
   "cell_type": "markdown",
   "id": "4e896e84-f2f5-447f-902c-5b3c05eaa687",
   "metadata": {},
   "source": [
    "# Generate closed shell structures"
   ]
  },
  {
   "cell_type": "code",
   "execution_count": 16,
   "id": "cc60d6fd-f4cf-4662-98c3-8aaf1f28a0c5",
   "metadata": {},
   "outputs": [],
   "source": [
    "closed_shell_df = resonance_radical_df[[\"resonance_radical_smiles\"]]"
   ]
  },
  {
   "cell_type": "code",
   "execution_count": 17,
   "id": "23ccbf97-a5c0-4af5-b458-66542b66a106",
   "metadata": {},
   "outputs": [
    {
     "data": {
      "text/plain": [
       "'CC1OC1OCO'"
      ]
     },
     "execution_count": 17,
     "metadata": {},
     "output_type": "execute_result"
    }
   ],
   "source": [
    "def generate_closed_shell_smi(smi):\n",
    "    mol = Molecule().from_smiles(smi)\n",
    "    mol.saturate_radicals()\n",
    "    mol.atoms.sort()\n",
    "    return mol.to_smiles()\n",
    "\n",
    "generate_closed_shell_smi(\"CC1OC1OC[O]\")"
   ]
  },
  {
   "cell_type": "code",
   "execution_count": 18,
   "id": "1ff95445-df63-4c9a-9a18-c3245d010695",
   "metadata": {},
   "outputs": [
    {
     "name": "stderr",
     "output_type": "stream",
     "text": [
      "/home/gridsan/hwpang/mambaforge/envs/rmg_rdmc_env_20230623_v2/lib/python3.7/site-packages/ipykernel_launcher.py:1: SettingWithCopyWarning: \n",
      "A value is trying to be set on a copy of a slice from a DataFrame.\n",
      "Try using .loc[row_indexer,col_indexer] = value instead\n",
      "\n",
      "See the caveats in the documentation: https://pandas.pydata.org/pandas-docs/stable/user_guide/indexing.html#returning-a-view-versus-a-copy\n",
      "  \"\"\"Entry point for launching an IPython kernel.\n"
     ]
    },
    {
     "data": {
      "text/html": [
       "<div>\n",
       "<style scoped>\n",
       "    .dataframe tbody tr th:only-of-type {\n",
       "        vertical-align: middle;\n",
       "    }\n",
       "\n",
       "    .dataframe tbody tr th {\n",
       "        vertical-align: top;\n",
       "    }\n",
       "\n",
       "    .dataframe thead th {\n",
       "        text-align: right;\n",
       "    }\n",
       "</style>\n",
       "<table border=\"1\" class=\"dataframe\">\n",
       "  <thead>\n",
       "    <tr style=\"text-align: right;\">\n",
       "      <th></th>\n",
       "      <th>resonance_radical_smiles</th>\n",
       "      <th>closed_shell_smiles</th>\n",
       "    </tr>\n",
       "  </thead>\n",
       "  <tbody>\n",
       "    <tr>\n",
       "      <th>0</th>\n",
       "      <td>[O]C(=O)OC(O)(O)O</td>\n",
       "      <td>O=C(O)OC(O)(O)O</td>\n",
       "    </tr>\n",
       "    <tr>\n",
       "      <th>1</th>\n",
       "      <td>[O]C(O)(O)OC(=O)O</td>\n",
       "      <td>O=C(O)OC(O)(O)O</td>\n",
       "    </tr>\n",
       "    <tr>\n",
       "      <th>2</th>\n",
       "      <td>O=C(O)O[C](O)O</td>\n",
       "      <td>O=C(O)OC(O)O</td>\n",
       "    </tr>\n",
       "    <tr>\n",
       "      <th>3</th>\n",
       "      <td>CC(=O)OC(OO)C(=O)C(O)O[O]</td>\n",
       "      <td>CC(=O)OC(OO)C(=O)C(O)OO</td>\n",
       "    </tr>\n",
       "    <tr>\n",
       "      <th>4</th>\n",
       "      <td>O=[C]OC(O)(O)O</td>\n",
       "      <td>O=COC(O)(O)O</td>\n",
       "    </tr>\n",
       "    <tr>\n",
       "      <th>...</th>\n",
       "      <td>...</td>\n",
       "      <td>...</td>\n",
       "    </tr>\n",
       "    <tr>\n",
       "      <th>2804</th>\n",
       "      <td>[C]1=CC=C1</td>\n",
       "      <td>C1=CC=C1</td>\n",
       "    </tr>\n",
       "    <tr>\n",
       "      <th>2805</th>\n",
       "      <td>C=C=C1C=[C]C1</td>\n",
       "      <td>C=C=C1C=CC1</td>\n",
       "    </tr>\n",
       "    <tr>\n",
       "      <th>2806</th>\n",
       "      <td>[CH2]C1=CC#CC1</td>\n",
       "      <td>CC1=CC#CC1</td>\n",
       "    </tr>\n",
       "    <tr>\n",
       "      <th>2807</th>\n",
       "      <td>C=C1[CH]C#CC1</td>\n",
       "      <td>C=C1CC#CC1</td>\n",
       "    </tr>\n",
       "    <tr>\n",
       "      <th>2808</th>\n",
       "      <td>C=C1C=C=[C]C1</td>\n",
       "      <td>C=C1C=C=CC1</td>\n",
       "    </tr>\n",
       "  </tbody>\n",
       "</table>\n",
       "<p>2809 rows × 2 columns</p>\n",
       "</div>"
      ],
      "text/plain": [
       "       resonance_radical_smiles      closed_shell_smiles\n",
       "0             [O]C(=O)OC(O)(O)O          O=C(O)OC(O)(O)O\n",
       "1             [O]C(O)(O)OC(=O)O          O=C(O)OC(O)(O)O\n",
       "2                O=C(O)O[C](O)O             O=C(O)OC(O)O\n",
       "3     CC(=O)OC(OO)C(=O)C(O)O[O]  CC(=O)OC(OO)C(=O)C(O)OO\n",
       "4                O=[C]OC(O)(O)O             O=COC(O)(O)O\n",
       "...                         ...                      ...\n",
       "2804                 [C]1=CC=C1                 C1=CC=C1\n",
       "2805              C=C=C1C=[C]C1              C=C=C1C=CC1\n",
       "2806             [CH2]C1=CC#CC1               CC1=CC#CC1\n",
       "2807              C=C1[CH]C#CC1               C=C1CC#CC1\n",
       "2808              C=C1C=C=[C]C1              C=C1C=C=CC1\n",
       "\n",
       "[2809 rows x 2 columns]"
      ]
     },
     "execution_count": 18,
     "metadata": {},
     "output_type": "execute_result"
    }
   ],
   "source": [
    "closed_shell_df[\"closed_shell_smiles\"] = closed_shell_df[\"resonance_radical_smiles\"].apply(generate_closed_shell_smi)\n",
    "closed_shell_df"
   ]
  },
  {
   "cell_type": "code",
   "execution_count": 19,
   "id": "b5dee76f-3f6e-4022-ba69-2b0df42897cd",
   "metadata": {},
   "outputs": [],
   "source": [
    "closed_shell_df.to_csv(\"../data/closed_shells.csv\", index=False)"
   ]
  },
  {
   "cell_type": "markdown",
   "id": "c6f18f92-1c24-4836-9283-deef60149f3e",
   "metadata": {},
   "source": [
    "# Generate closed shell thermo"
   ]
  },
  {
   "cell_type": "code",
   "execution_count": 20,
   "id": "01fc176c-ef21-4b76-af65-b9be086a8481",
   "metadata": {},
   "outputs": [],
   "source": [
    "lib_paths = [\n",
    "    \"../data/dong_pio_liang.py\",\n",
    "    \"../data/pang.py\",\n",
    "    \"../data/johnson_cbs-qb3.py\",\n",
    "    \"../data/johnson_g4.py\",\n",
    "]"
   ]
  },
  {
   "cell_type": "code",
   "execution_count": 21,
   "id": "c9cd9c7b-2583-4ef2-a2cc-372dd4e0887b",
   "metadata": {},
   "outputs": [
    {
     "name": "stdout",
     "output_type": "stream",
     "text": [
      "The thermodynamics library ../data/dong_pio_liang.py is loaded.\n",
      "The thermodynamics library ../data/pang.py is loaded.\n",
      "The thermodynamics library ../data/johnson_cbs-qb3.py is loaded.\n",
      "The thermodynamics library ../data/johnson_g4.py is loaded.\n"
     ]
    }
   ],
   "source": [
    "# load thermo database\n",
    "\n",
    "thermo_database = ThermoDatabase()\n",
    "thermo_database.load_groups(os.path.join(settings[\"database.directory\"], \"thermo\", \"groups\"))\n",
    "for path in lib_paths:\n",
    "    load_thermo_lib_by_path(path, thermo_database)\n",
    "    thermo_database.library_order.remove(path)\n",
    "thermo_database.library_order = lib_paths + thermo_database.library_order"
   ]
  },
  {
   "cell_type": "code",
   "execution_count": null,
   "id": "438d01b8-134e-49c0-a59b-3d50818de64b",
   "metadata": {
    "tags": []
   },
   "outputs": [
    {
     "name": "stderr",
     "output_type": "stream",
     "text": [
      " 33%|███▎      | 915/2809 [00:12<00:19, 97.27it/s]"
     ]
    }
   ],
   "source": [
    "# takes ~1 min 30 sec\n",
    "closed_shell_thermos = [generate_thermo(thermo_database, smi, resonance=False) for smi in tqdm(closed_shell_df[\"closed_shell_smiles\"])]\n"
   ]
  },
  {
   "cell_type": "code",
   "execution_count": null,
   "id": "934386ac-9a0b-4f7b-8262-3d774ef33694",
   "metadata": {},
   "outputs": [],
   "source": [
    "closed_shell_df[\"closed_shell_H298 (kcal/mol)\"] = [thermo[0] for thermo in closed_shell_thermos]\n",
    "closed_shell_df[\"closed_shell_S298 (cal/mol/K)\"] = [thermo[1] for thermo in closed_shell_thermos]\n",
    "for i, T in enumerate(Ts):\n",
    "    closed_shell_df[f\"closed_shell_Cp{T} (cal/mol/K)\"] = [thermo[2][i] for thermo in closed_shell_thermos]\n",
    "closed_shell_df[\"closed_shell_Sint298 (cal/mol/K)\"] = [thermo[3] for thermo in closed_shell_thermos]\n",
    "closed_shell_df[\"closed_shell_thermo_comment\"] = [thermo[4] for thermo in closed_shell_thermos]\n",
    "closed_shell_df"
   ]
  },
  {
   "cell_type": "code",
   "execution_count": null,
   "id": "75efac55-3563-4f77-9a38-4dea8280e533",
   "metadata": {},
   "outputs": [],
   "source": [
    "def thermo_source(comment):\n",
    "    if \"Thermo group additivity estimation\" in comment:\n",
    "        return \"GAV\"\n",
    "    else:\n",
    "        return comment\n",
    "closed_shell_df[\"closed_shell_thermo_source\"] = closed_shell_df[\"closed_shell_thermo_comment\"].apply(thermo_source)\n",
    "closed_shell_df"
   ]
  },
  {
   "cell_type": "code",
   "execution_count": null,
   "id": "22ac9404-a6ab-4515-bf86-2b25c2252b17",
   "metadata": {},
   "outputs": [],
   "source": [
    "closed_shell_df[\"closed_shell_thermo_source\"].value_counts()"
   ]
  },
  {
   "cell_type": "code",
   "execution_count": null,
   "id": "daab9a72-9e50-4bbd-b166-2407f925d28f",
   "metadata": {},
   "outputs": [],
   "source": [
    "closed_shell_df.to_csv(\"../data/closed_shell_data.csv\", index=False)"
   ]
  },
  {
   "cell_type": "code",
   "execution_count": null,
   "id": "2fdd6293-d734-4a81-a9f9-c4d080016b27",
   "metadata": {},
   "outputs": [],
   "source": []
  }
 ],
 "metadata": {
  "kernelspec": {
   "display_name": "Python [conda env:mambaforge-rmg_rdmc_env_20230623_v2]",
   "language": "python",
   "name": "conda-env-mambaforge-rmg_rdmc_env_20230623_v2-py"
  },
  "language_info": {
   "codemirror_mode": {
    "name": "ipython",
    "version": 3
   },
   "file_extension": ".py",
   "mimetype": "text/x-python",
   "name": "python",
   "nbconvert_exporter": "python",
   "pygments_lexer": "ipython3",
   "version": "3.7.16"
  }
 },
 "nbformat": 4,
 "nbformat_minor": 5
}
