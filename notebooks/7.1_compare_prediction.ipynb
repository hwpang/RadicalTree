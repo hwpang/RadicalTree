{
 "cells": [
  {
   "cell_type": "markdown",
   "id": "01bd1295-4c26-4d07-95ce-4585c3f41312",
   "metadata": {},
   "source": [
    "# Compare prediction"
   ]
  },
  {
   "cell_type": "code",
   "execution_count": 1,
   "id": "560074aa-4576-43e0-8d2f-ee419c3d409d",
   "metadata": {},
   "outputs": [],
   "source": [
    "import pandas as pd"
   ]
  },
  {
   "cell_type": "code",
   "execution_count": null,
   "id": "c27fbfa3-0435-4ce6-ab86-bc3f0c638559",
   "metadata": {},
   "outputs": [],
   "source": [
    "empirical_df = pd.read_csv(\"../data/splits/random.json\")"
   ]
  }
 ],
 "metadata": {
  "kernelspec": {
   "display_name": "Python [conda env:mambaforge-rmg_rdmc_env_20230623_v2]",
   "language": "python",
   "name": "conda-env-mambaforge-rmg_rdmc_env_20230623_v2-py"
  },
  "language_info": {
   "codemirror_mode": {
    "name": "ipython",
    "version": 3
   },
   "file_extension": ".py",
   "mimetype": "text/x-python",
   "name": "python",
   "nbconvert_exporter": "python",
   "pygments_lexer": "ipython3",
   "version": "3.7.16"
  }
 },
 "nbformat": 4,
 "nbformat_minor": 5
}
